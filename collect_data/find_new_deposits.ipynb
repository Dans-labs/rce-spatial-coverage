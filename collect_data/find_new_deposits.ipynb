{
 "cells": [
  {
   "cell_type": "markdown",
   "metadata": {},
   "source": [
    "## Collect newly deposited datasets, add them to the MongoDB instance "
   ]
  },
  {
   "cell_type": "markdown",
   "metadata": {},
   "source": [
    "### Load data"
   ]
  },
  {
   "cell_type": "code",
   "execution_count": 1,
   "metadata": {},
   "outputs": [],
   "source": [
    "import sys\n",
    "# Specify the path to the scripts folder\n",
    "sys.path.append('../scripts/')\n",
    "from mongodb import load_data"
   ]
  },
  {
   "cell_type": "code",
   "execution_count": 2,
   "metadata": {},
   "outputs": [],
   "source": [
    "collection = load_data()"
   ]
  },
  {
   "cell_type": "markdown",
   "metadata": {},
   "source": [
    "### Find latest date of deposit"
   ]
  },
  {
   "cell_type": "code",
   "execution_count": null,
   "metadata": {},
   "outputs": [],
   "source": [
    "# Find the latest entry for the field \"ore:describes.dateOfDeposit\"\n",
    "latest_entry = collection.find_one(\n",
    "    {\"ore:describes.dateOfDeposit\": {\"$exists\": True}},\n",
    "    sort=[(\"ore:describes.dateOfDeposit\", -1)]\n",
    ")\n",
    "print(latest_entry)"
   ]
  },
  {
   "cell_type": "code",
   "execution_count": 13,
   "metadata": {},
   "outputs": [
    {
     "data": {
      "text/plain": [
       "'2025-01-13'"
      ]
     },
     "execution_count": 13,
     "metadata": {},
     "output_type": "execute_result"
    }
   ],
   "source": [
    "latest_entry[\"ore:describes\"][\"dateOfDeposit\"]"
   ]
  },
  {
   "cell_type": "markdown",
   "metadata": {},
   "source": [
    "### Extract all metadata for datasets after latest_entry \n",
    "Query `q_2025` selects all datasets deposited to the Archaeology Data Station between 2025-01-13 and 2025-03-28 (date of writing), with the Published status. \n"
   ]
  },
  {
   "cell_type": "code",
   "execution_count": 73,
   "metadata": {},
   "outputs": [],
   "source": [
    "q_2025 = \"https://archaeology.datastations.nl/api/search?q=*&per_page=1000&type=dataset&show_facets=true&fq=publicationDate:2025&fq=dateSort:[2025-01-13T00:00:00Z+TO+2025-03-27T00:00:00Z]&fq=publicationStatus:Published\""
   ]
  },
  {
   "cell_type": "code",
   "execution_count": 74,
   "metadata": {},
   "outputs": [
    {
     "data": {
      "text/plain": [
       "'https://archaeology.datastations.nl/api/search?q=*&per_page=1000&type=dataset&show_facets=true&fq=publicationDate:2025&fq=dateSort:[2025-01-13T00:00:00Z+TO+2025-03-27T00:00:00Z]&fq=publicationStatus:Published'"
      ]
     },
     "execution_count": 74,
     "metadata": {},
     "output_type": "execute_result"
    }
   ],
   "source": [
    "q_2025"
   ]
  },
  {
   "cell_type": "code",
   "execution_count": 77,
   "metadata": {},
   "outputs": [
    {
     "name": "stdout",
     "output_type": "stream",
     "text": [
      "=== Page 1 ===\n",
      "start: 0  total: 3232\n",
      "=== Page 2 ===\n",
      "start: 1000  total: 3232\n",
      "=== Page 3 ===\n",
      "start: 2000  total: 3232\n",
      "=== Page 4 ===\n",
      "start: 3000  total: 3232\n"
     ]
    }
   ],
   "source": [
    "## Automate the process of fetching all the data from the API\n",
    "dois = []\n",
    "\n",
    "import urllib\n",
    "import json\n",
    "base = q_2025\n",
    "rows = 1000\n",
    "start = 0\n",
    "page = 1\n",
    "condition = True # emulate do-while\n",
    "while (condition):\n",
    "    url = base + \"&start=\" + str(start)\n",
    "    data = json.load(urllib.request.urlopen(url))\n",
    "    total = data['data']['total_count']\n",
    "    print(\"=== Page\", page, \"===\")\n",
    "    print(\"start:\", start, \" total:\", total)\n",
    "    for i in data['data']['items']:\n",
    "        #print(\"- \", i['name'], \"(\" + i['type'] + \")\")\n",
    "        doi = i['url']\n",
    "        dois.append(doi)\n",
    "    start = start + rows\n",
    "    page += 1\n",
    "    condition = start < total"
   ]
  },
  {
   "cell_type": "code",
   "execution_count": null,
   "metadata": {},
   "outputs": [],
   "source": [
    "# Write to .txt file \n",
    "# with open('../../data/dois_2025-03-28.txt', 'w') as f:\n",
    "#     for item in dois:\n",
    "#         f.write(\"%s\\n\" % item)"
   ]
  }
 ],
 "metadata": {
  "kernelspec": {
   "display_name": "Python 3",
   "language": "python",
   "name": "python3"
  },
  "language_info": {
   "codemirror_mode": {
    "name": "ipython",
    "version": 3
   },
   "file_extension": ".py",
   "mimetype": "text/x-python",
   "name": "python",
   "nbconvert_exporter": "python",
   "pygments_lexer": "ipython3",
   "version": "3.12.3"
  }
 },
 "nbformat": 4,
 "nbformat_minor": 2
}
