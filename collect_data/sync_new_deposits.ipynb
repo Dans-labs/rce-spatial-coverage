{
 "cells": [
  {
   "cell_type": "markdown",
   "metadata": {},
   "source": [
    "## Collect newly deposited datasets, add them to the MongoDB instance "
   ]
  },
  {
   "cell_type": "markdown",
   "metadata": {},
   "source": [
    "### Load data"
   ]
  },
  {
   "cell_type": "code",
   "execution_count": 1,
   "metadata": {},
   "outputs": [],
   "source": [
    "import sys\n",
    "# Specify the path to the scripts folder\n",
    "sys.path.append('../scripts/')\n",
    "from mongodb import load_data"
   ]
  },
  {
   "cell_type": "code",
   "execution_count": 2,
   "metadata": {},
   "outputs": [],
   "source": [
    "collection = load_data()"
   ]
  },
  {
   "cell_type": "markdown",
   "metadata": {},
   "source": [
    "### Find latest date of deposit"
   ]
  },
  {
   "cell_type": "code",
   "execution_count": 12,
   "metadata": {},
   "outputs": [
    {
     "name": "stdout",
     "output_type": "stream",
     "text": [
      "{'_id': ObjectId('67a9c000ec45b2e66fe68613'), 'dcterms:modified': '2025-01-13', 'dcterms:creator': 'DANS Data Station Archaeology', '@type': 'ore:ResourceMap', 'schema:additionalType': 'Dataverse OREMap Format v1.0.0', 'dvcore:generatedBy': {'@type': 'schema:SoftwareApplication', 'schema:name': 'Dataverse', 'schema:version': '6.3 build DANS-DataStation-PATCH-9', 'schema:url': 'https://github.com/iqss/dataverse'}, '@id': 'https://archaeology.datastations.nl/api/datasets/export?exporter=OAI_ORE&persistentId=https://doi.org/10.17026/AR/95SGMI', 'ore:describes': {'dansDataVaultMetadata:dansNbn': 'urn:nbn:nl:ui:13-7cba5b1e-2225-473f-9ac1-eca94c097797', 'dansDataVaultMetadata:dansBagId': 'urn:uuid:c79c3a84-b81d-413d-a497-ca1e11b1934f', 'dansDataVaultMetadata:dansDataversePid': 'doi:10.17026/AR/95SGMI', 'dansDataVaultMetadata:dansDataversePidVersion': '1.0', 'citation:productionDate': '2025-01-13', 'dansTemporalSpatial:dansSpatialCoverageControlled': 'Netherlands', 'dansTemporalSpatial:dansSpatialCoverageText': ['Zuid-Holland', 'Vlaardingen', 'Vlaardingen', 'Stadhoudersweg 1'], 'citation:datasetContact': {'citation:datasetContactName': 'Boer, den, I.L.F.', 'citation:datasetContactAffiliation': 'IDDS Archeologie BV'}, 'dansTemporalSpatial:dansSpatialPoint': {'dansTemporalSpatial:dansSpatialPointX': '83522', 'dansTemporalSpatial:dansSpatialPointY': '437959', 'dansTemporalSpatial:dansSpatialPointScheme': 'RD (in m.)'}, 'author': [{'citation:authorName': 'A.M.H.C. Koekkelkoren', 'citation:authorAffiliation': 'IDDS Archeologie BV'}, {'citation:authorName': 'R. Semeijn', 'citation:authorAffiliation': 'IDDS Archeologie BV'}, {'citation:authorName': 'S. Moerman', 'citation:authorAffiliation': 'IDDS Archeologie BV'}], 'citation:dsDescription': {'citation:dsDescriptionValue': 'IDDS Archeologie heeft in februari 2024 een archeologisch bureauonderzoek en een inventariserend veldonderzoek (IVO), verkennende fase, uitgevoerd aan de Stadhoudersweg 1 in Vlaardingen, gemeente Vlaardingen. De doel- en vraagstelling van het bureauonderzoek is het opstellen van een gespecificeerde archeologische verwachting voor het plangebied. Met het inventariserend veldonderzoek wordt deze verwachting getoetst en zo nodig aangevuld.  \\nUit het bureauonderzoek blijkt dat het plangebied is gelegen op een vlakte van getijafzettingen. Hierop is een middelhoge verwachting op sporen uit de periode IJzertijd tot en met Vroege Middeleeuwen in de top van de getij-afzettingen. Daarnaast kunnen mogelijke resten van bewoning in de top van het Hollandveen pakket voorkomen, indien deze niet geërodeerd is. Op basis van de historische topografische kaarten is het plangebied in gebruik geweest als weiland en heeft een lage verwachting op resten uit de Nieuwe Tijd. \\nHet veldonderzoek heeft uitgewezen dat de verwachting voor resten in de top van het Hollandveen kan worden bijgesteld naar laag omdat er geen veraarde niveaus aanwezig zijn en de overgang van het veen naar de bovenliggende klei geleidelijk is. Dit wijst erop dat het altijd natte omstandigheden zijn geweest.\\nDe verwachting voor resten in het Laagpakket van Walcheren vanaf de IJzertijd geldt voor het niveau onder de bouwvoor, waar zich sporen kunnen aftekenen. In de omgeving van het plangebied zijn kleilagen aanwezig in het veen. Dit zijn afzettingen van kreken waarop resten mogen worden verwacht aangetroffen op -4,7 m NAP (Bronstijd); op -3,0 m  NAP (Vroege IJzertijd) al ligt dit niveau plaatselijk tot een meter lager door verschillen in inklinking en het hoogste krekenniveau ligt op -2,5 m NAP (Romeinse tijd). Deze niveaus zijn in het plangebied echter niet meer deel van het veenpakket, waarvan de top op -4,5 m NAP ligt. De kleilagen in het veenpakket zijn vermoedelijk deel van andere kreken, al blijft het mogelijk dat de lagen hier dieper liggen door inklinking van het veenpakket dat ter plaatse van het plangebied dikker is vanwege de diepe ligging van het Laagpakket van Wormer. De kleilagen in het veenpakket zijn echter te dun om als loopoppervlaktes en bewoningslagen te hebben gefunctioneerd, waardoor de verwachting voor deze niveaus laag is. \\nMet name het hoogste kleiniveau, het Laagpakket van Walcheren, kan resten bevatten uit de Romeinse tijd. Deze verwachting is met name gebaseerd op vindplaatsen in de omgeving.  De top ligt direct onder de bouwvoor, op -3,3 m NAP / 1,0 m -mv en dieper. Het is mogelijk om archeologische resten aan te treffen in de top of dieper in het pakket, waarbij een vindplaats is overdekt door latere overstromingen.\\nVoor de periode vanaf het inpolderen in de 12e eeuw tot in de Nieuwe tijd worden er op basis van het bureauonderzoek geen resten verwacht en er zijn tijdens het veldwerk ook geen indicaties voor aangetroffen.\\nOp basis van de resultaten van het inventariserend veldonderzoek adviseert IDDS Archeologie om vervolgonderzoek uit te laten voeren indien de graafwerkzaamheden voor de nieuwbouw reiken tot -3,1 m NAP of dieper. Deze diepte wordt aangehouden op basis van de minimale diepte van het potentiële archeologisch niveau met een veiligheidsmarge van 20 cm.'}, 'subject': 'Arts and Humanities', 'dansRights:dansRightsHolder': 'IDDS Archeologie BV', 'dansRelationMetadata:dansCollection': {'@id': 'https://vocabularies.dans.knaw.nl/collections/archaeology/IDDSArcheologieBV', 'vocabularyUri': 'https://vocabularies.dans.knaw.nl/collections'}, 'dansRights:dansMetadataLanguage': 'Dutch', 'dansRights:dansPersonalDataPresent': 'No', 'dateOfDeposit': '2025-01-13', 'dansRelationMetadata:dansAudience': {'@id': 'https://www.narcis.nl/classification/D37000', 'termName': [{'lang': 'nl', 'value': 'Archeologie'}, {'lang': 'en', 'value': 'Archaeology'}], 'vocabularyUri': 'https://www.narcis.nl/classification/'}, 'citation:depositor': 'Boer, den, I.L.F.', 'dansArchaeologyMetadata:dansAbrVerwervingswijze': {'@id': 'https://data.cultureelerfgoed.nl/term/id/abr/e06a84fa-62e8-42ff-8f38-0ddfe9485a15'}, 'dansArchaeologyMetadata:dansAbrRapportNummer': '3008', 'dansArchaeologyMetadata:dansArchisZaakId': '5617904100', 'title': 'Archeologisch bureauonderzoek & Inventariserend Veldonderzoek, verkennende fase Stadhoudersweg 1, Vlaardingen Gemeente Vlaardingen', 'dansArchaeologyMetadata:dansAbrRapportType': {'@id': 'https://data.cultureelerfgoed.nl/term/id/abr/15b5af60-4d2c-4822-a02a-f0e0ded07e09'}, 'language': 'Dutch', '@id': 'https://doi.org/10.17026/AR/95SGMI', '@type': ['ore:Aggregation', 'schema:Dataset'], 'schema:version': '1.0', 'schema:name': 'Archeologisch bureauonderzoek & Inventariserend Veldonderzoek, verkennende fase Stadhoudersweg 1, Vlaardingen Gemeente Vlaardingen', 'schema:dateModified': '2025-01-13 16:50:52.385', 'schema:datePublished': '2025-01-13', 'schema:creativeWorkStatus': 'RELEASED', 'schema:license': 'http://creativecommons.org/licenses/by/4.0', 'dvcore:fileTermsOfAccess': {'dvcore:fileRequestAccess': True}, 'schema:includedInDataCatalog': 'DANS Data Station Archaeology', 'schema:isPartOf': {'schema:name': 'DANS Data Station Archaeology', '@id': 'https://archaeology.datastations.nl/dataverse/root', 'schema:description': '<p>\\nThis Data Station allows you to deposit and search for data within the field of Archaeology.<BR>\\nIf you want to deposit data, please consult <a href=\"https://dans.knaw.nl/en/selection-policy-dans-data-stations/\">the selection policy</a> of the DANS Data Stations.\\n<p>'}, 'ore:aggregates': [{'schema:name': 'A5358-01 IVO-O Stadhoudersweg 1, Vlaardingen_rapport_v1.4 (definitief).pdf', 'dvcore:restricted': False, 'schema:version': 1, 'dvcore:datasetVersionId': 279289, '@id': 'https://archaeology.datastations.nl/file.xhtml?fileId=3757252', 'schema:sameAs': 'https://archaeology.datastations.nl/api/access/datafile/3757252', '@type': 'ore:AggregatedResource', 'schema:fileFormat': 'application/pdf', 'dvcore:filesize': 3548624, 'dvcore:storageIdentifier': 'file://1946056de4f-de2ed4b1da8f', 'dvcore:rootDataFileId': -1, 'dvcore:checksum': {'@type': 'SHA-1', '@value': '85bd98b8a78f6e2b99ac1b3b89f062a5c78a6ff7'}}], 'schema:hasPart': ['https://archaeology.datastations.nl/file.xhtml?fileId=3757252']}, '@context': {'author': 'http://purl.org/dc/terms/creator', 'citation': 'https://dataverse.org/schema/citation/', 'content': '@value', 'dansArchaeologyMetadata': 'https://archaeology.datastations.nl/schema/dansArchaeologyMetadata#', 'dansDataVaultMetadata': 'https://archaeology.datastations.nl/schema/dansDataVaultMetadata#', 'dansRelationMetadata': 'https://archaeology.datastations.nl/schema/dansRelationMetadata#', 'dansRights': 'https://archaeology.datastations.nl/schema/dansRights#', 'dansTemporalSpatial': 'https://archaeology.datastations.nl/schema/dansTemporalSpatial#', 'dateOfDeposit': 'http://purl.org/dc/terms/dateSubmitted', 'dcterms': 'http://purl.org/dc/terms/', 'dvcore': 'https://dataverse.org/schema/core#', 'lang': '@language', 'language': 'http://purl.org/dc/terms/language', 'ore': 'http://www.openarchives.org/ore/terms/', 'schema': 'http://schema.org/', 'scheme': 'http://www.w3.org/2004/02/skos/core#inScheme', 'subject': 'http://purl.org/dc/terms/subject', 'termName': 'https://schema.org/name', 'title': 'http://purl.org/dc/terms/title', 'value': '@value', 'vocabularyName': 'https://dataverse.org/schema/vocabularyName', 'vocabularyUri': 'https://dataverse.org/schema/vocabularyUri'}}\n"
     ]
    }
   ],
   "source": [
    "# Find the latest entry for the field \"ore:describes.dateOfDeposit\"\n",
    "# convert the date to a datetime object and sort by the date in descending order\n",
    "# then print the first entry\n",
    "latest_entry = collection.find_one(\n",
    "    {\"ore:describes.dateOfDeposit\": {\"$exists\": True}},\n",
    "    sort=[(\"ore:describes.dateOfDeposit\", -1)]\n",
    ")\n",
    "print(latest_entry)\n",
    "\n",
    "\n"
   ]
  },
  {
   "cell_type": "code",
   "execution_count": 13,
   "metadata": {},
   "outputs": [
    {
     "data": {
      "text/plain": [
       "'2025-01-13'"
      ]
     },
     "execution_count": 13,
     "metadata": {},
     "output_type": "execute_result"
    }
   ],
   "source": [
    "latest_entry[\"ore:describes\"][\"dateOfDeposit\"]"
   ]
  },
  {
   "cell_type": "markdown",
   "metadata": {},
   "source": [
    "### Extract all metadata for datasets after latest_entry \n",
    "Query `q_2025` selects all datasets deposited to the Archaeology Data Station between 2025-01-13 and 2025-03-28 (date of writing), with the Published status. \n"
   ]
  },
  {
   "cell_type": "code",
   "execution_count": 73,
   "metadata": {},
   "outputs": [],
   "source": [
    "q_2025 = \"https://archaeology.datastations.nl/api/search?q=*&per_page=1000&type=dataset&show_facets=true&fq=publicationDate:2025&fq=dateSort:[2025-01-13T00:00:00Z+TO+2025-03-27T00:00:00Z]&fq=publicationStatus:Published\""
   ]
  },
  {
   "cell_type": "code",
   "execution_count": 74,
   "metadata": {},
   "outputs": [
    {
     "data": {
      "text/plain": [
       "'https://archaeology.datastations.nl/api/search?q=*&per_page=1000&type=dataset&show_facets=true&fq=publicationDate:2025&fq=dateSort:[2025-01-13T00:00:00Z+TO+2025-03-27T00:00:00Z]&fq=publicationStatus:Published'"
      ]
     },
     "execution_count": 74,
     "metadata": {},
     "output_type": "execute_result"
    }
   ],
   "source": [
    "q_2025"
   ]
  },
  {
   "cell_type": "code",
   "execution_count": null,
   "metadata": {},
   "outputs": [],
   "source": [
    "## Automate the process of fetching all the data from the API\n",
    "\n",
    "import urllib\n",
    "import json\n",
    "base = 'https://archaeology.datastations.nl'\n",
    "rows = 10\n",
    "start = 0\n",
    "page = 1\n",
    "condition = True # emulate do-while\n",
    "while (condition):\n",
    "    url = base + '/api/search?q=*' + \"&start=\" + str(start)\n",
    "    data = json.load(urllib.request.urlopen(url))\n",
    "    total = data['data']['total_count']\n",
    "    print(\"=== Page\", page, \"===\")\n",
    "    print(\"start:\", start, \" total:\", total)\n",
    "    for i in data['data']['items']:\n",
    "        print(\"- \", i['name'], \"(\" + i['type'] + \")\")\n",
    "    start = start + rows\n",
    "    page += 1\n",
    "    condition = start < total"
   ]
  }
 ],
 "metadata": {
  "kernelspec": {
   "display_name": "Python 3",
   "language": "python",
   "name": "python3"
  },
  "language_info": {
   "codemirror_mode": {
    "name": "ipython",
    "version": 3
   },
   "file_extension": ".py",
   "mimetype": "text/x-python",
   "name": "python",
   "nbconvert_exporter": "python",
   "pygments_lexer": "ipython3",
   "version": "3.12.3"
  }
 },
 "nbformat": 4,
 "nbformat_minor": 2
}
