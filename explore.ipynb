{
 "cells": [
  {
   "cell_type": "markdown",
   "metadata": {},
   "source": [
    "# Exploration of JSONs \n",
    "Small random batch of 50 datasets"
   ]
  },
  {
   "cell_type": "markdown",
   "metadata": {},
   "source": [
    "#### Use [Nominatim]() for mapping of placenames/streets to coordinates \n"
   ]
  },
  {
   "cell_type": "code",
   "execution_count": 7,
   "metadata": {},
   "outputs": [
    {
     "name": "stdout",
     "output_type": "stream",
     "text": [
      "52.0971657 5.117116\n"
     ]
    }
   ],
   "source": [
    "from geopy.geocoders import Nominatim\n",
    "\n",
    "geolocator = Nominatim(user_agent=\"DANS-geomapping\")\n",
    "location = geolocator.geocode(\"Gruttersdijk 2A, Utrecht\")\n",
    "print(location.latitude, location.longitude)"
   ]
  },
  {
   "cell_type": "code",
   "execution_count": 55,
   "metadata": {},
   "outputs": [],
   "source": [
    "# Extract info from JSONs \n",
    "import json\n",
    "import pandas as pd\n",
    "import pprint\n",
    "import os\n",
    "\n",
    "json_files = []\n",
    "\n",
    "for (root, dirs, file) in os.walk('../jsons'):\n",
    "    for f in file:\n",
    "        if f.endswith('.json') and f.startswith('nogeo'):\n",
    "            json_files.append(os.path.join(root, f))\n",
    "\n",
    "\n",
    "# List of JSON file paths\n",
    "#json_files = ['../jsons/nogeo_doi:10.17026%dans-z5m-ktc9.json']\n",
    "\n",
    "\n"
   ]
  },
  {
   "cell_type": "code",
   "execution_count": 56,
   "metadata": {},
   "outputs": [
    {
     "data": {
      "text/plain": [
       "110"
      ]
     },
     "execution_count": 56,
     "metadata": {},
     "output_type": "execute_result"
    }
   ],
   "source": [
    "len(json_files)"
   ]
  },
  {
   "cell_type": "code",
   "execution_count": 69,
   "metadata": {},
   "outputs": [],
   "source": [
    "# Create an empty list to store the data\n",
    "data = []\n",
    "\n",
    "# Loop through each JSON file\n",
    "for file in json_files:\n",
    "    with open(file, 'r') as f:\n",
    "        json_data = json.load(f)\n",
    "        \n",
    "        # Extract the ID\n",
    "        id = json_data.get('@id', None)\n",
    "        if 'doi.org' in id: \n",
    "            id = id.split('doi.org/')[-1] # keep only the DOI part\n",
    "        else: \n",
    "            id = id.split('doi:')[-1] \n",
    "        \n",
    "        \n",
    "        # Extract dataset descriptions, spatial coverage, and title\n",
    "        describes = json_data.get('ore:describes', [])\n",
    "        title = describes.get('title', None)\n",
    "\n",
    "        if not isinstance(describes, list):\n",
    "            describes = [describes]\n",
    "        \n",
    "        all_descriptions = []\n",
    "        all_spatial_coverage = []\n",
    "        for describe in describes:\n",
    "            # Get dsDescriptionValue\n",
    "            ds_description = describe.get('citation:dsDescription', [])\n",
    "            if not isinstance(ds_description, list):\n",
    "                ds_description = [ds_description]\n",
    "            \n",
    "            for desc in ds_description:\n",
    "                descr = desc.get('citation:dsDescriptionValue', None)\n",
    "                if descr:\n",
    "                    all_descriptions.append(descr)\n",
    "            \n",
    "            # Get dansSpatialCoverageText\n",
    "            spatial_coverage = describe.get('dansTemporalSpatial:dansSpatialCoverageText', [])\n",
    "            if not isinstance(spatial_coverage, list):\n",
    "                spatial_coverage = [spatial_coverage]\n",
    "            \n",
    "            for coverage in spatial_coverage:\n",
    "                if coverage:\n",
    "                    all_spatial_coverage.append(coverage)\n",
    "\n",
    "        # Append the extracted data to the list\n",
    "        data.append({\n",
    "            'id': id,\n",
    "            'title': title,\n",
    "            'dsDescriptionValues': all_descriptions[0],\n",
    "            'dansSpatialCoverageText': all_spatial_coverage\n",
    "        })\n",
    "\n",
    "# Create a DataFrame from the extracted data\n",
    "df = pd.DataFrame(data)"
   ]
  },
  {
   "cell_type": "code",
   "execution_count": 70,
   "metadata": {},
   "outputs": [
    {
     "name": "stdout",
     "output_type": "stream",
     "text": [
      "<class 'pandas.core.frame.DataFrame'>\n",
      "RangeIndex: 110 entries, 0 to 109\n",
      "Data columns (total 4 columns):\n",
      " #   Column                   Non-Null Count  Dtype \n",
      "---  ------                   --------------  ----- \n",
      " 0   id                       110 non-null    object\n",
      " 1   title                    110 non-null    object\n",
      " 2   dsDescriptionValues      110 non-null    object\n",
      " 3   dansSpatialCoverageText  110 non-null    object\n",
      "dtypes: object(4)\n",
      "memory usage: 3.6+ KB\n"
     ]
    }
   ],
   "source": [
    "df.info()"
   ]
  },
  {
   "cell_type": "code",
   "execution_count": 71,
   "metadata": {},
   "outputs": [],
   "source": [
    "df.dsDescriptionValues = df.dsDescriptionValues.str.replace('<p>', '')\n",
    "df.dsDescriptionValues = df.dsDescriptionValues.str.replace('</p>', '')"
   ]
  },
  {
   "cell_type": "code",
   "execution_count": 72,
   "metadata": {},
   "outputs": [
    {
     "data": {
      "text/html": [
       "<div>\n",
       "<style scoped>\n",
       "    .dataframe tbody tr th:only-of-type {\n",
       "        vertical-align: middle;\n",
       "    }\n",
       "\n",
       "    .dataframe tbody tr th {\n",
       "        vertical-align: top;\n",
       "    }\n",
       "\n",
       "    .dataframe thead th {\n",
       "        text-align: right;\n",
       "    }\n",
       "</style>\n",
       "<table border=\"1\" class=\"dataframe\">\n",
       "  <thead>\n",
       "    <tr style=\"text-align: right;\">\n",
       "      <th></th>\n",
       "      <th>id</th>\n",
       "      <th>title</th>\n",
       "      <th>dsDescriptionValues</th>\n",
       "      <th>dansSpatialCoverageText</th>\n",
       "    </tr>\n",
       "  </thead>\n",
       "  <tbody>\n",
       "    <tr>\n",
       "      <th>0</th>\n",
       "      <td>10.17026/dans-zh2-6ube</td>\n",
       "      <td>PAN-00132785 - seal with connecting strip and pin</td>\n",
       "      <td>This find is registered at Portable Antiquitie...</td>\n",
       "      <td>[Amsterdam, NLD]</td>\n",
       "    </tr>\n",
       "    <tr>\n",
       "      <th>1</th>\n",
       "      <td>10.17026/dans-286-dy7s</td>\n",
       "      <td>Enschede (OV) - Wesselerbrink, deelgebied 5</td>\n",
       "      <td>onderzoeksrapport</td>\n",
       "      <td>[Nederland, Het Leunenberg, Wesselerbrinklaan,...</td>\n",
       "    </tr>\n",
       "    <tr>\n",
       "      <th>2</th>\n",
       "      <td>10.17026/AR/WIPZRT</td>\n",
       "      <td>PAN-00105621 - coin/coin-related, provincie, duit</td>\n",
       "      <td>This find is registered at Portable Antiquitie...</td>\n",
       "      <td>[Katwijk, NLD]</td>\n",
       "    </tr>\n",
       "    <tr>\n",
       "      <th>3</th>\n",
       "      <td>10.17026/dans-zdc-usah</td>\n",
       "      <td>PAN-00036502 - button with solid convex head a...</td>\n",
       "      <td>This find is registered at Portable Antiquitie...</td>\n",
       "      <td>[Goes, NLD]</td>\n",
       "    </tr>\n",
       "    <tr>\n",
       "      <th>4</th>\n",
       "      <td>10.17026/dans-xup-tcgu</td>\n",
       "      <td>PAN-00005610 - coin/coin-related, (maker : Han...</td>\n",
       "      <td>This find is registered at Portable Antiquitie...</td>\n",
       "      <td>[Amsterdam, NLD]</td>\n",
       "    </tr>\n",
       "    <tr>\n",
       "      <th>...</th>\n",
       "      <td>...</td>\n",
       "      <td>...</td>\n",
       "      <td>...</td>\n",
       "      <td>...</td>\n",
       "    </tr>\n",
       "    <tr>\n",
       "      <th>105</th>\n",
       "      <td>10.17026/dans-28p-8nab</td>\n",
       "      <td>PAN-00074886 - tobacco box</td>\n",
       "      <td>This find is registered at Portable Antiquitie...</td>\n",
       "      <td>[Vlissingen, NLD]</td>\n",
       "    </tr>\n",
       "    <tr>\n",
       "      <th>106</th>\n",
       "      <td>10.17026/dans-x85-r3ux</td>\n",
       "      <td>PAN-00054775 - horseshoe type 3</td>\n",
       "      <td>This find is registered at Portable Antiquitie...</td>\n",
       "      <td>[Maastricht, NLD]</td>\n",
       "    </tr>\n",
       "    <tr>\n",
       "      <th>107</th>\n",
       "      <td>10.17026/dans-25h-m25t</td>\n",
       "      <td>PAN-00043998 - terminal knob (unspecified; Rom...</td>\n",
       "      <td>This find is registered at Portable Antiquitie...</td>\n",
       "      <td>[Zaltbommel, NLD]</td>\n",
       "    </tr>\n",
       "    <tr>\n",
       "      <th>108</th>\n",
       "      <td>10.17026/dans-za4-s88t</td>\n",
       "      <td>PAN-00123486 - net sinkers made from Roman cer...</td>\n",
       "      <td>This find is registered at Portable Antiquitie...</td>\n",
       "      <td>[Zevenaar, NLD]</td>\n",
       "    </tr>\n",
       "    <tr>\n",
       "      <th>109</th>\n",
       "      <td>10.17026/dans-2bf-4kmj</td>\n",
       "      <td>PAN-00083919 - tobacco pipe (pipe clay)</td>\n",
       "      <td>This find is registered at Portable Antiquitie...</td>\n",
       "      <td>[Rhenen, NLD]</td>\n",
       "    </tr>\n",
       "  </tbody>\n",
       "</table>\n",
       "<p>110 rows × 4 columns</p>\n",
       "</div>"
      ],
      "text/plain": [
       "                         id  \\\n",
       "0    10.17026/dans-zh2-6ube   \n",
       "1    10.17026/dans-286-dy7s   \n",
       "2        10.17026/AR/WIPZRT   \n",
       "3    10.17026/dans-zdc-usah   \n",
       "4    10.17026/dans-xup-tcgu   \n",
       "..                      ...   \n",
       "105  10.17026/dans-28p-8nab   \n",
       "106  10.17026/dans-x85-r3ux   \n",
       "107  10.17026/dans-25h-m25t   \n",
       "108  10.17026/dans-za4-s88t   \n",
       "109  10.17026/dans-2bf-4kmj   \n",
       "\n",
       "                                                 title  \\\n",
       "0    PAN-00132785 - seal with connecting strip and pin   \n",
       "1          Enschede (OV) - Wesselerbrink, deelgebied 5   \n",
       "2    PAN-00105621 - coin/coin-related, provincie, duit   \n",
       "3    PAN-00036502 - button with solid convex head a...   \n",
       "4    PAN-00005610 - coin/coin-related, (maker : Han...   \n",
       "..                                                 ...   \n",
       "105                         PAN-00074886 - tobacco box   \n",
       "106                    PAN-00054775 - horseshoe type 3   \n",
       "107  PAN-00043998 - terminal knob (unspecified; Rom...   \n",
       "108  PAN-00123486 - net sinkers made from Roman cer...   \n",
       "109            PAN-00083919 - tobacco pipe (pipe clay)   \n",
       "\n",
       "                                   dsDescriptionValues  \\\n",
       "0    This find is registered at Portable Antiquitie...   \n",
       "1                                    onderzoeksrapport   \n",
       "2    This find is registered at Portable Antiquitie...   \n",
       "3    This find is registered at Portable Antiquitie...   \n",
       "4    This find is registered at Portable Antiquitie...   \n",
       "..                                                 ...   \n",
       "105  This find is registered at Portable Antiquitie...   \n",
       "106  This find is registered at Portable Antiquitie...   \n",
       "107  This find is registered at Portable Antiquitie...   \n",
       "108  This find is registered at Portable Antiquitie...   \n",
       "109  This find is registered at Portable Antiquitie...   \n",
       "\n",
       "                               dansSpatialCoverageText  \n",
       "0                                     [Amsterdam, NLD]  \n",
       "1    [Nederland, Het Leunenberg, Wesselerbrinklaan,...  \n",
       "2                                       [Katwijk, NLD]  \n",
       "3                                          [Goes, NLD]  \n",
       "4                                     [Amsterdam, NLD]  \n",
       "..                                                 ...  \n",
       "105                                  [Vlissingen, NLD]  \n",
       "106                                  [Maastricht, NLD]  \n",
       "107                                  [Zaltbommel, NLD]  \n",
       "108                                    [Zevenaar, NLD]  \n",
       "109                                      [Rhenen, NLD]  \n",
       "\n",
       "[110 rows x 4 columns]"
      ]
     },
     "execution_count": 72,
     "metadata": {},
     "output_type": "execute_result"
    }
   ],
   "source": [
    "df"
   ]
  },
  {
   "cell_type": "code",
   "execution_count": 67,
   "metadata": {},
   "outputs": [],
   "source": [
    "df.to_csv('../data/missing_geo_test.csv', index=False)"
   ]
  },
  {
   "cell_type": "code",
   "execution_count": null,
   "metadata": {},
   "outputs": [],
   "source": [
    "geo_text = df.dansSpatialCoverageText.tolist()"
   ]
  },
  {
   "cell_type": "code",
   "execution_count": 80,
   "metadata": {},
   "outputs": [
    {
     "name": "stdout",
     "output_type": "stream",
     "text": [
      "['Amsterdam', 'NLD']\n"
     ]
    }
   ],
   "source": [
    "print(geo_text[0])"
   ]
  }
 ],
 "metadata": {
  "kernelspec": {
   "display_name": "env",
   "language": "python",
   "name": "python3"
  },
  "language_info": {
   "codemirror_mode": {
    "name": "ipython",
    "version": 3
   },
   "file_extension": ".py",
   "mimetype": "text/x-python",
   "name": "python",
   "nbconvert_exporter": "python",
   "pygments_lexer": "ipython3",
   "version": "3.12.3"
  }
 },
 "nbformat": 4,
 "nbformat_minor": 2
}
