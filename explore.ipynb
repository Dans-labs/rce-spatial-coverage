{
 "cells": [
  {
   "cell_type": "markdown",
   "metadata": {},
   "source": [
    "# RCE - geographical metadata exploration "
   ]
  },
  {
   "cell_type": "markdown",
   "metadata": {},
   "source": [
    "## Explore"
   ]
  },
  {
   "cell_type": "code",
   "execution_count": 2,
   "metadata": {},
   "outputs": [],
   "source": [
    "import pandas as pd\n",
    "import zipfile"
   ]
  },
  {
   "cell_type": "code",
   "execution_count": 3,
   "metadata": {},
   "outputs": [
    {
     "name": "stdout",
     "output_type": "stream",
     "text": [
      "Files in the ZIP archive:\n",
      "metadata-16-01-2025/\n",
      "metadata-16-01-2025/getmetadata.sh\n",
      "metadata-16-01-2025/metadata-from-prod-server-0.csv\n",
      "metadata-16-01-2025/metadata-from-prod-server-1.csv\n",
      "metadata-16-01-2025/metadata-from-prod-server-10.csv\n",
      "metadata-16-01-2025/metadata-from-prod-server-11.csv\n",
      "metadata-16-01-2025/metadata-from-prod-server-12.csv\n",
      "metadata-16-01-2025/metadata-from-prod-server-13.csv\n",
      "metadata-16-01-2025/metadata-from-prod-server-14.csv\n",
      "metadata-16-01-2025/metadata-from-prod-server-15.csv\n",
      "metadata-16-01-2025/metadata-from-prod-server-16.csv\n",
      "metadata-16-01-2025/metadata-from-prod-server-17.csv\n",
      "metadata-16-01-2025/metadata-from-prod-server-18.csv\n",
      "metadata-16-01-2025/metadata-from-prod-server-19.csv\n",
      "metadata-16-01-2025/metadata-from-prod-server-2.csv\n",
      "metadata-16-01-2025/metadata-from-prod-server-20.csv\n",
      "metadata-16-01-2025/metadata-from-prod-server-21.csv\n",
      "metadata-16-01-2025/metadata-from-prod-server-22.csv\n",
      "metadata-16-01-2025/metadata-from-prod-server-23.csv\n",
      "metadata-16-01-2025/metadata-from-prod-server-24.csv\n",
      "metadata-16-01-2025/metadata-from-prod-server-25.csv\n",
      "metadata-16-01-2025/metadata-from-prod-server-26.csv\n",
      "metadata-16-01-2025/metadata-from-prod-server-27.csv\n",
      "metadata-16-01-2025/metadata-from-prod-server-28.csv\n",
      "metadata-16-01-2025/metadata-from-prod-server-29.csv\n",
      "metadata-16-01-2025/metadata-from-prod-server-3.csv\n",
      "metadata-16-01-2025/metadata-from-prod-server-30.csv\n",
      "metadata-16-01-2025/metadata-from-prod-server-31.csv\n",
      "metadata-16-01-2025/metadata-from-prod-server-4.csv\n",
      "metadata-16-01-2025/metadata-from-prod-server-5.csv\n",
      "metadata-16-01-2025/metadata-from-prod-server-6.csv\n",
      "metadata-16-01-2025/metadata-from-prod-server-7.csv\n",
      "metadata-16-01-2025/metadata-from-prod-server-8.csv\n",
      "metadata-16-01-2025/metadata-from-prod-server-9.csv\n"
     ]
    }
   ],
   "source": [
    "### Inspect zip file contents \n",
    "\n",
    "# Path to zip file\n",
    "zip_file_path = '../data/metadata-2.zip'\n",
    "#zip_file_path = '../data/metadata-1.zip'\n",
    "\n",
    "# Open the zip file and list its contents\n",
    "with zipfile.ZipFile(zip_file_path, 'r') as zip_ref:\n",
    "    zip_contents = zip_ref.namelist()  # List all files inside the zip\n",
    "    print(\"Files in the ZIP archive:\")\n",
    "    for file in zip_contents:\n",
    "        print(file)\n",
    "\n"
   ]
  },
  {
   "cell_type": "code",
   "execution_count": 4,
   "metadata": {},
   "outputs": [],
   "source": [
    "# Paths to the zip files\n",
    "zip_file_1 = '../data/metadata-1.zip'\n",
    "zip_file_2 = '../data/metadata-2.zip'"
   ]
  },
  {
   "cell_type": "code",
   "execution_count": 5,
   "metadata": {},
   "outputs": [],
   "source": [
    "# List to store DataFrames from both ZIPs\n",
    "dfs = []\n",
    "\n",
    "# Read CSV files from a ZIP file and add them to the list\n",
    "def read_csv_from_zip(zip_file):\n",
    "    with zipfile.ZipFile(zip_file, 'r') as zip_ref:\n",
    "        # Get a list of all the files in the zip\n",
    "        zip_contents = zip_ref.namelist()\n",
    "        \n",
    "        # Filter out only the CSV files\n",
    "        csv_files = [f for f in zip_contents if f.endswith('.csv')]\n",
    "        \n",
    "        # Read each CSV file and append to the DataFrame list\n",
    "        for csv_file in csv_files:\n",
    "            with zip_ref.open(csv_file) as file:\n",
    "                df = pd.read_csv(file)\n",
    "                dfs.append(df)  # Append the DataFrame\n",
    "\n",
    "# Read CSVs from both zip files\n",
    "read_csv_from_zip(zip_file_1)\n",
    "read_csv_from_zip(zip_file_2)\n",
    "\n",
    "# Concatenate DataFrames into a single DataFrame\n",
    "combined_df = pd.concat(dfs, ignore_index=True)"
   ]
  },
  {
   "cell_type": "code",
   "execution_count": 6,
   "metadata": {},
   "outputs": [
    {
     "data": {
      "text/plain": [
       "Index(['dsPersistentId', 'publicationStatus', 'title', 'dsDescriptionValue',\n",
       "       'dccd-projectType', 'dccd-category', 'dccd-taxon', 'dccd-objectType',\n",
       "       'dccd-elementType', 'dccd-latitude', 'dccd-longitude',\n",
       "       'dccd-periodStart', 'dccd-periodEnd', 'metadata_type_ss',\n",
       "       'dansSpatialPointX', 'dansSpatialPointY', 'dansSpatialPointScheme',\n",
       "       'dansSpatialBoxNorth', 'dansSpatialBoxEast', 'dansSpatialBoxSouth',\n",
       "       'dansSpatialBoxWest', 'dansSpatialBoxScheme',\n",
       "       'dansSpatialCoverageControlleddansSpatialCoverageText'],\n",
       "      dtype='object')"
      ]
     },
     "execution_count": 6,
     "metadata": {},
     "output_type": "execute_result"
    }
   ],
   "source": [
    "combined_df.columns"
   ]
  },
  {
   "cell_type": "code",
   "execution_count": 7,
   "metadata": {},
   "outputs": [
    {
     "name": "stdout",
     "output_type": "stream",
     "text": [
      "<class 'pandas.core.frame.DataFrame'>\n",
      "RangeIndex: 169705 entries, 0 to 169704\n",
      "Data columns (total 23 columns):\n",
      " #   Column                                                Non-Null Count   Dtype  \n",
      "---  ------                                                --------------   -----  \n",
      " 0   dsPersistentId                                        169705 non-null  object \n",
      " 1   publicationStatus                                     169705 non-null  object \n",
      " 2   title                                                 169705 non-null  object \n",
      " 3   dsDescriptionValue                                    169389 non-null  object \n",
      " 4   dccd-projectType                                      5337 non-null    object \n",
      " 5   dccd-category                                         5337 non-null    object \n",
      " 6   dccd-taxon                                            5033 non-null    object \n",
      " 7   dccd-objectType                                       5117 non-null    object \n",
      " 8   dccd-elementType                                      3891 non-null    object \n",
      " 9   dccd-latitude                                         4981 non-null    object \n",
      " 10  dccd-longitude                                        4981 non-null    object \n",
      " 11  dccd-periodStart                                      3864 non-null    object \n",
      " 12  dccd-periodEnd                                        3865 non-null    object \n",
      " 13  metadata_type_ss                                      10416 non-null   object \n",
      " 14  dansSpatialPointX                                     56945 non-null   object \n",
      " 15  dansSpatialPointY                                     56944 non-null   object \n",
      " 16  dansSpatialPointScheme                                56732 non-null   object \n",
      " 17  dansSpatialBoxNorth                                   4445 non-null    object \n",
      " 18  dansSpatialBoxEast                                    4444 non-null    object \n",
      " 19  dansSpatialBoxSouth                                   4438 non-null    object \n",
      " 20  dansSpatialBoxWest                                    4436 non-null    object \n",
      " 21  dansSpatialBoxScheme                                  4452 non-null    object \n",
      " 22  dansSpatialCoverageControlleddansSpatialCoverageText  0 non-null       float64\n",
      "dtypes: float64(1), object(22)\n",
      "memory usage: 29.8+ MB\n"
     ]
    }
   ],
   "source": [
    "combined_df.info()"
   ]
  },
  {
   "cell_type": "code",
   "execution_count": 8,
   "metadata": {},
   "outputs": [
    {
     "name": "stdout",
     "output_type": "stream",
     "text": [
      "publicationStatus\n",
      "Published                      166283\n",
      "Unpublished,Draft                2796\n",
      "Unpublished,Draft,In Review       247\n",
      "Draft                             199\n",
      "Deaccessioned                     174\n",
      "Draft,In Review                     6\n",
      "Name: count, dtype: int64\n"
     ]
    }
   ],
   "source": [
    "# Inspect values of publicationStatus\n",
    "pubstatus = combined_df.publicationStatus.value_counts()\n",
    "print(pubstatus)"
   ]
  },
  {
   "cell_type": "code",
   "execution_count": 9,
   "metadata": {},
   "outputs": [],
   "source": [
    "# Count missing values \n",
    "nan_counts = combined_df.isna().sum()\n"
   ]
  },
  {
   "cell_type": "code",
   "execution_count": 10,
   "metadata": {},
   "outputs": [],
   "source": [
    "# Select archeological datasets\n",
    "arch_df = combined_df[combined_df.dansSpatialPointX.notna() | combined_df.dansSpatialBoxNorth.notna()]\n"
   ]
  },
  {
   "cell_type": "code",
   "execution_count": 11,
   "metadata": {},
   "outputs": [
    {
     "name": "stdout",
     "output_type": "stream",
     "text": [
      "<class 'pandas.core.frame.DataFrame'>\n",
      "Index: 60313 entries, 10416 to 169704\n",
      "Data columns (total 23 columns):\n",
      " #   Column                                                Non-Null Count  Dtype  \n",
      "---  ------                                                --------------  -----  \n",
      " 0   dsPersistentId                                        60313 non-null  object \n",
      " 1   publicationStatus                                     60313 non-null  object \n",
      " 2   title                                                 60313 non-null  object \n",
      " 3   dsDescriptionValue                                    60313 non-null  object \n",
      " 4   dccd-projectType                                      0 non-null      object \n",
      " 5   dccd-category                                         0 non-null      object \n",
      " 6   dccd-taxon                                            0 non-null      object \n",
      " 7   dccd-objectType                                       0 non-null      object \n",
      " 8   dccd-elementType                                      0 non-null      object \n",
      " 9   dccd-latitude                                         0 non-null      object \n",
      " 10  dccd-longitude                                        0 non-null      object \n",
      " 11  dccd-periodStart                                      0 non-null      object \n",
      " 12  dccd-periodEnd                                        0 non-null      object \n",
      " 13  metadata_type_ss                                      0 non-null      object \n",
      " 14  dansSpatialPointX                                     56945 non-null  object \n",
      " 15  dansSpatialPointY                                     56944 non-null  object \n",
      " 16  dansSpatialPointScheme                                56727 non-null  object \n",
      " 17  dansSpatialBoxNorth                                   4445 non-null   object \n",
      " 18  dansSpatialBoxEast                                    4444 non-null   object \n",
      " 19  dansSpatialBoxSouth                                   4438 non-null   object \n",
      " 20  dansSpatialBoxWest                                    4436 non-null   object \n",
      " 21  dansSpatialBoxScheme                                  4449 non-null   object \n",
      " 22  dansSpatialCoverageControlleddansSpatialCoverageText  0 non-null      float64\n",
      "dtypes: float64(1), object(22)\n",
      "memory usage: 11.0+ MB\n"
     ]
    }
   ],
   "source": [
    "arch_df.info()"
   ]
  },
  {
   "cell_type": "code",
   "execution_count": 12,
   "metadata": {},
   "outputs": [],
   "source": [
    "# Select only published datasets\n",
    "df_pub = arch_df[arch_df.publicationStatus == 'Published']"
   ]
  },
  {
   "cell_type": "code",
   "execution_count": 13,
   "metadata": {},
   "outputs": [
    {
     "name": "stdout",
     "output_type": "stream",
     "text": [
      "<class 'pandas.core.frame.DataFrame'>\n",
      "Index: 59837 entries, 10416 to 169704\n",
      "Data columns (total 23 columns):\n",
      " #   Column                                                Non-Null Count  Dtype  \n",
      "---  ------                                                --------------  -----  \n",
      " 0   dsPersistentId                                        59837 non-null  object \n",
      " 1   publicationStatus                                     59837 non-null  object \n",
      " 2   title                                                 59837 non-null  object \n",
      " 3   dsDescriptionValue                                    59837 non-null  object \n",
      " 4   dccd-projectType                                      0 non-null      object \n",
      " 5   dccd-category                                         0 non-null      object \n",
      " 6   dccd-taxon                                            0 non-null      object \n",
      " 7   dccd-objectType                                       0 non-null      object \n",
      " 8   dccd-elementType                                      0 non-null      object \n",
      " 9   dccd-latitude                                         0 non-null      object \n",
      " 10  dccd-longitude                                        0 non-null      object \n",
      " 11  dccd-periodStart                                      0 non-null      object \n",
      " 12  dccd-periodEnd                                        0 non-null      object \n",
      " 13  metadata_type_ss                                      0 non-null      object \n",
      " 14  dansSpatialPointX                                     56479 non-null  object \n",
      " 15  dansSpatialPointY                                     56479 non-null  object \n",
      " 16  dansSpatialPointScheme                                56300 non-null  object \n",
      " 17  dansSpatialBoxNorth                                   4432 non-null   object \n",
      " 18  dansSpatialBoxEast                                    4430 non-null   object \n",
      " 19  dansSpatialBoxSouth                                   4426 non-null   object \n",
      " 20  dansSpatialBoxWest                                    4424 non-null   object \n",
      " 21  dansSpatialBoxScheme                                  4436 non-null   object \n",
      " 22  dansSpatialCoverageControlleddansSpatialCoverageText  0 non-null      float64\n",
      "dtypes: float64(1), object(22)\n",
      "memory usage: 11.0+ MB\n"
     ]
    }
   ],
   "source": [
    "df_pub.info()"
   ]
  },
  {
   "cell_type": "code",
   "execution_count": 14,
   "metadata": {},
   "outputs": [],
   "source": [
    "# Make a list of DOIs\n",
    "dois = df_pub.dsPersistentId.tolist()"
   ]
  },
  {
   "cell_type": "code",
   "execution_count": 19,
   "metadata": {},
   "outputs": [
    {
     "data": {
      "text/plain": [
       "['doi:10.17026/dans-zpq-esut',\n",
       " 'doi:10.17026/dans-xcv-5ezh',\n",
       " 'doi:10.17026/dans-xaw-aezr',\n",
       " 'doi:10.17026/dans-xjw-5j2s',\n",
       " 'doi:10.17026/dans-zuh-n6ew',\n",
       " 'doi:10.17026/dans-xen-ce72',\n",
       " 'doi:10.17026/dans-xjw-fpfz',\n",
       " 'doi:10.17026/dans-z78-xsm7',\n",
       " 'doi:10.17026/dans-zed-xz3e',\n",
       " 'doi:10.17026/dans-xby-cgqk']"
      ]
     },
     "execution_count": 19,
     "metadata": {},
     "output_type": "execute_result"
    }
   ],
   "source": [
    "dois[1000:1010]"
   ]
  },
  {
   "cell_type": "code",
   "execution_count": 21,
   "metadata": {},
   "outputs": [
    {
     "data": {
      "text/plain": [
       "'doi:10.17026/dans-zrj-unr7'"
      ]
     },
     "execution_count": 21,
     "metadata": {},
     "output_type": "execute_result"
    }
   ],
   "source": [
    "test_doi = dois[0]\n",
    "test_doi"
   ]
  },
  {
   "cell_type": "markdown",
   "metadata": {},
   "source": [
    "## Get OAI-ORE metadata"
   ]
  },
  {
   "cell_type": "code",
   "execution_count": 16,
   "metadata": {},
   "outputs": [],
   "source": [
    "import requests\n",
    "import json\n",
    "import pprint"
   ]
  },
  {
   "cell_type": "code",
   "execution_count": 26,
   "metadata": {},
   "outputs": [
    {
     "name": "stdout",
     "output_type": "stream",
     "text": [
      "https://archaeology.datastations.nl/api/datasets/export?exporter=OAI_ORE&persistentId=doi:10.17026/dans-zrj-unr7\n",
      "JSON data has been saved to 'test.json'.\n"
     ]
    }
   ],
   "source": [
    "# URL of the JSON file\n",
    "url = f\"https://archaeology.datastations.nl/api/datasets/export?exporter=OAI_ORE&persistentId={test_doi}\"\n",
    "\n",
    "try:\n",
    "    # Send a GET request to the URL\n",
    "    response = requests.get(url)\n",
    "    print(url)\n",
    "\n",
    "    # Check if the request was successful\n",
    "    response.raise_for_status()\n",
    "\n",
    "    # Parse the JSON data\n",
    "    data = response.json()\n",
    "\n",
    "    # Optionally, save it to a file\n",
    "    with open('../jsons/test.json', 'w') as json_file:\n",
    "        json.dump(data, json_file, indent=4)\n",
    "\n",
    "    print(\"JSON data has been saved to 'test.json'.\")\n",
    "    # pprint.pprint(data) \n",
    "\n",
    "except requests.exceptions.RequestException as e:\n",
    "    print(f\"An error occurred: {e}\")"
   ]
  },
  {
   "cell_type": "code",
   "execution_count": null,
   "metadata": {},
   "outputs": [],
   "source": []
  }
 ],
 "metadata": {
  "kernelspec": {
   "display_name": "env",
   "language": "python",
   "name": "python3"
  },
  "language_info": {
   "codemirror_mode": {
    "name": "ipython",
    "version": 3
   },
   "file_extension": ".py",
   "mimetype": "text/x-python",
   "name": "python",
   "nbconvert_exporter": "python",
   "pygments_lexer": "ipython3",
   "version": "3.12.3"
  }
 },
 "nbformat": 4,
 "nbformat_minor": 2
}
