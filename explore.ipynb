{
 "cells": [
  {
   "cell_type": "markdown",
   "metadata": {},
   "source": [
    "# RCE - geographical metadata exploration "
   ]
  },
  {
   "cell_type": "markdown",
   "metadata": {},
   "source": [
    "## Explore"
   ]
  },
  {
   "cell_type": "code",
   "execution_count": null,
   "metadata": {},
   "outputs": [
    {
     "ename": "",
     "evalue": "",
     "output_type": "error",
     "traceback": [
      "\u001b[1;31mThe kernel failed to start as the Python Environment 'Python 3.12.3' is no longer available. Consider selecting another kernel or refreshing the list of Python Environments."
     ]
    }
   ],
   "source": [
    "import pandas as pd\n",
    "import zipfile"
   ]
  },
  {
   "cell_type": "code",
   "execution_count": null,
   "metadata": {},
   "outputs": [],
   "source": [
    "### Inspect zip file contents \n",
    "\n",
    "# Path to zip file\n",
    "zip_file_path = '../data/metadata-2.zip'\n",
    "#zip_file_path = '../data/metadata-1.zip'\n",
    "\n",
    "# Open the zip file and list its contents\n",
    "with zipfile.ZipFile(zip_file_path, 'r') as zip_ref:\n",
    "    zip_contents = zip_ref.namelist()  # List all files inside the zip\n",
    "    print(\"Files in the ZIP archive:\")\n",
    "    for file in zip_contents:\n",
    "        print(file)\n",
    "\n"
   ]
  },
  {
   "cell_type": "code",
   "execution_count": null,
   "metadata": {},
   "outputs": [],
   "source": [
    "# Paths to the zip files\n",
    "zip_file_1 = '../data/metadata-1.zip'\n",
    "zip_file_2 = '../data/metadata-2.zip'"
   ]
  },
  {
   "cell_type": "code",
   "execution_count": null,
   "metadata": {},
   "outputs": [],
   "source": [
    "# List to store DataFrames from both ZIPs\n",
    "dfs = []\n",
    "\n",
    "# Read CSV files from a ZIP file and add them to the list\n",
    "def read_csv_from_zip(zip_file):\n",
    "    with zipfile.ZipFile(zip_file, 'r') as zip_ref:\n",
    "        # Get a list of all the files in the zip\n",
    "        zip_contents = zip_ref.namelist()\n",
    "        \n",
    "        # Filter out only the CSV files\n",
    "        csv_files = [f for f in zip_contents if f.endswith('.csv')]\n",
    "        \n",
    "        # Read each CSV file and append to the DataFrame list\n",
    "        for csv_file in csv_files:\n",
    "            with zip_ref.open(csv_file) as file:\n",
    "                df = pd.read_csv(file)\n",
    "                dfs.append(df)  # Append the DataFrame\n",
    "\n",
    "# Read CSVs from both zip files\n",
    "read_csv_from_zip(zip_file_1)\n",
    "read_csv_from_zip(zip_file_2)\n",
    "\n",
    "# Concatenate DataFrames into a single DataFrame\n",
    "combined_df = pd.concat(dfs, ignore_index=True)"
   ]
  },
  {
   "cell_type": "code",
   "execution_count": null,
   "metadata": {},
   "outputs": [],
   "source": [
    "combined_df.columns"
   ]
  },
  {
   "cell_type": "code",
   "execution_count": null,
   "metadata": {},
   "outputs": [],
   "source": [
    "combined_df.info()"
   ]
  },
  {
   "cell_type": "code",
   "execution_count": null,
   "metadata": {},
   "outputs": [],
   "source": [
    "# Inspect values of publicationStatus\n",
    "pubstatus = combined_df.publicationStatus.value_counts()\n",
    "print(pubstatus)"
   ]
  },
  {
   "cell_type": "code",
   "execution_count": null,
   "metadata": {},
   "outputs": [],
   "source": [
    "# Count missing values \n",
    "nan_counts = combined_df.isna().sum()\n"
   ]
  },
  {
   "cell_type": "code",
   "execution_count": null,
   "metadata": {},
   "outputs": [],
   "source": [
    "# Select archeological datasets\n",
    "arch_df = combined_df[combined_df.dansSpatialPointX.notna() | combined_df.dansSpatialBoxNorth.notna()]\n"
   ]
  },
  {
   "cell_type": "code",
   "execution_count": null,
   "metadata": {},
   "outputs": [],
   "source": [
    "arch_df.info()"
   ]
  },
  {
   "cell_type": "code",
   "execution_count": null,
   "metadata": {},
   "outputs": [],
   "source": [
    "# Select only published datasets\n",
    "df_pub = arch_df[arch_df.publicationStatus == 'Published']"
   ]
  },
  {
   "cell_type": "code",
   "execution_count": null,
   "metadata": {},
   "outputs": [],
   "source": [
    "df_pub.info()"
   ]
  },
  {
   "cell_type": "code",
   "execution_count": null,
   "metadata": {},
   "outputs": [],
   "source": [
    "# Make a list of DOIs\n",
    "dois = df_pub.dsPersistentId.tolist()"
   ]
  },
  {
   "cell_type": "code",
   "execution_count": null,
   "metadata": {},
   "outputs": [],
   "source": [
    "dois[:10]"
   ]
  },
  {
   "cell_type": "markdown",
   "metadata": {},
   "source": [
    "## Get OAI-ORE metadata"
   ]
  },
  {
   "cell_type": "code",
   "execution_count": null,
   "metadata": {},
   "outputs": [],
   "source": [
    "import requests\n",
    "import json\n",
    "import pprint"
   ]
  },
  {
   "cell_type": "code",
   "execution_count": null,
   "metadata": {},
   "outputs": [],
   "source": [
    "# URL of the JSON file\n",
    "url = \"https://dataverse.nl/api/datasets/export?exporter=OAI_ORE&persistentId=doi%3A10.34894/1TQV3K\"\n",
    "\n",
    "try:\n",
    "    # Send a GET request to the URL\n",
    "    response = requests.get(url)\n",
    "\n",
    "    # Check if the request was successful\n",
    "    response.raise_for_status()\n",
    "\n",
    "    # Parse the JSON data\n",
    "    data = response.json()\n",
    "\n",
    "    # Optionally, save it to a file\n",
    "    with open('../jsons/test.json', 'w') as json_file:\n",
    "        json.dump(data, json_file, indent=4)\n",
    "\n",
    "    print(\"JSON data has been saved to 'test.json'.\")\n",
    "    pprint.pprint(data) \n",
    "\n",
    "except requests.exceptions.RequestException as e:\n",
    "    print(f\"An error occurred: {e}\")"
   ]
  },
  {
   "cell_type": "code",
   "execution_count": null,
   "metadata": {},
   "outputs": [],
   "source": []
  }
 ],
 "metadata": {
  "kernelspec": {
   "display_name": "Python 3",
   "language": "python",
   "name": "python3"
  },
  "language_info": {
   "codemirror_mode": {
    "name": "ipython",
    "version": 3
   },
   "file_extension": ".py",
   "mimetype": "text/x-python",
   "name": "python",
   "nbconvert_exporter": "python",
   "pygments_lexer": "ipython3",
   "version": "3.12.3"
  }
 },
 "nbformat": 4,
 "nbformat_minor": 2
}
