{
 "cells": [
  {
   "cell_type": "markdown",
   "metadata": {},
   "source": [
    "# Extract polygons from dataset files \n"
   ]
  },
  {
   "cell_type": "code",
   "execution_count": 2,
   "metadata": {},
   "outputs": [
    {
     "data": {
      "text/plain": [
       "'/home/alessandrap/Documents/projects/RCE/rce-spatial-coverage/coordinates'"
      ]
     },
     "execution_count": 2,
     "metadata": {},
     "output_type": "execute_result"
    }
   ],
   "source": [
    "pwd"
   ]
  },
  {
   "cell_type": "code",
   "execution_count": 15,
   "metadata": {},
   "outputs": [],
   "source": [
    "# Read the polygons from the files \n",
    "from bs4 import BeautifulSoup\n",
    "\n",
    "with open('../../data/downloaded_files/10.17026%dans-2au-tsnx/easy-migration/dataset.xml', 'r') as f:\n",
    "    data = f.read()\n",
    "\n",
    "d = BeautifulSoup(data, \"xml\")\n",
    "\n",
    "polygons = d.find_all('posList')\n",
    "\n"
   ]
  },
  {
   "cell_type": "code",
   "execution_count": 16,
   "metadata": {},
   "outputs": [],
   "source": [
    "pgs = [element.text for element in polygons]"
   ]
  },
  {
   "cell_type": "code",
   "execution_count": 17,
   "metadata": {},
   "outputs": [
    {
     "data": {
      "text/plain": [
       "['181985 441247 182397 441341 184311 442529 184675 442718 185337 442883 185793 442889 185853 442592 185797 442587 185785 442366 185831 442315 185841 442085 185788 441844 185708 441682 185389 441472 185449 441225 185528 441216 185526 440883 185444 440694 185433 440647 185474 440629 185357 440270 185350 440071 185440 439736 185947 439732 185948 439619 186057 439636 186799 439489 186847 439664 187642 439446 187663 439489 188094 439413 188525 439260 188740 439044 189208 438898 189424 438749 189761 438706 190131 438553 189553 437540 190070 437048 189803 436532 189907 436407 189737 435902 189682 435538 189266 435635 188714 435628 188474 435662 188441 435191 188374 434944 188600 434955 188632 434722 188551 434634 188556 434452 188318 434402 187327 434382 187346 434116 187299 434108 186052 434005 185496 434020 185495 433782 185765 433649 185861 433479 185945 432896 186023 432863 185684 432305 185846 432215 185605 431614 185425 431631 185361 431744 185306 431740 185244 431664 185086 431693 184888 431535 184605 431389 184138 431666 183460 431949 182692 432122 181590 432304 181072 432454 179945 432873 178552 433160 178050 433361 176990 433912 177287 434301 177186 434421 176986 434399 176967 434435 176972 434537 177088 434798 177050 434976 176979 435070 176892 435107 176966 435363 176933 435573 176507 436242 176304 436356 176190 436562 175983 436701 176262 436975 176164 437033 175227 436689 174969 436957 174868 436999 174942 437070 174940 437120 174850 437241 174978 437352 174852 437559 175030 437771 175031 437888 175289 437909 175445 437967 175812 438268 176260 438132 176032 438509 175968 438493 175739 438563 174514 438047 174053 438008 173787 437940 173758 438382 173794 438415 173734 438771 174293 438974 174151 439253 173974 439176 173836 439497 173369 439251 173289 439430 173112 439344 172866 439129 172818 439213 172905 439607 172951 439590 173099 439924 173186 439987 173398 439822 173573 440021 174165 440521 174406 440626 174770 440968 175067 441157 176461 441535 177149 441672 177698 441697 178120 441809 178539 442190 179354 442470 179579 442483 179785 442416 180949 441629 181552 441334 181985 441247']"
      ]
     },
     "execution_count": 17,
     "metadata": {},
     "output_type": "execute_result"
    }
   ],
   "source": [
    "pgs"
   ]
  },
  {
   "cell_type": "code",
   "execution_count": null,
   "metadata": {},
   "outputs": [],
   "source": [
    "# Write out, save for map inputs  \n",
    "\n",
    "# Keep dataset doi + polygon"
   ]
  },
  {
   "cell_type": "code",
   "execution_count": null,
   "metadata": {},
   "outputs": [],
   "source": [
    "# Convert to bounding boxes\n",
    "import numpy as np\n",
    "\n",
    "def bounding_box_numpy(points: np.array):\n",
    "    \"\"\"\n",
    "    Find min/max from an N-collection of coordinate pairs, shape = (N, 2), using \n",
    "    numpy's min/max along the collection-axis \n",
    "    \"\"\"\n",
    "    return [*points.min(axis=0), *points.max(axis=0)]\n",
    "\n",
    "\n",
    "points = polygons\n",
    "numpy_points = np.array(points)  \n",
    "print(numpy_points.shape)  # prints (1000000, 2)"
   ]
  },
  {
   "cell_type": "code",
   "execution_count": null,
   "metadata": {},
   "outputs": [],
   "source": [
    "# Write out, save as metadata enrichment \n",
    "\n",
    "# Keep dataset doi + bounding box"
   ]
  },
  {
   "cell_type": "code",
   "execution_count": null,
   "metadata": {},
   "outputs": [],
   "source": []
  }
 ],
 "metadata": {
  "kernelspec": {
   "display_name": "Python 3",
   "language": "python",
   "name": "python3"
  },
  "language_info": {
   "codemirror_mode": {
    "name": "ipython",
    "version": 3
   },
   "file_extension": ".py",
   "mimetype": "text/x-python",
   "name": "python",
   "nbconvert_exporter": "python",
   "pygments_lexer": "ipython3",
   "version": "3.12.3"
  }
 },
 "nbformat": 4,
 "nbformat_minor": 2
}
