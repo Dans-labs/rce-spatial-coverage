{
 "cells": [
  {
   "cell_type": "markdown",
   "metadata": {},
   "source": [
    "# Explore metadata fields in the full archaeology dataset"
   ]
  },
  {
   "cell_type": "code",
   "execution_count": 1,
   "metadata": {},
   "outputs": [],
   "source": [
    "import pandas as pd"
   ]
  },
  {
   "cell_type": "code",
   "execution_count": 1,
   "metadata": {},
   "outputs": [],
   "source": [
    "from pymongo import MongoClient\n",
    "\n",
    "# Replace with your MongoDB connection string\n",
    "CONNECTION_STRING = \"mongodb://127.0.0.1:27018\"  # For local MongoDB\n",
    "\n",
    "# Connect to the database and collection\n",
    "client = MongoClient(CONNECTION_STRING)\n",
    "db = client[\"archaeology_metadata\"] # Create new database\n",
    "collection = db[\"collection\"] # Create new collection"
   ]
  },
  {
   "cell_type": "code",
   "execution_count": 2,
   "metadata": {},
   "outputs": [
    {
     "name": "stdout",
     "output_type": "stream",
     "text": [
      "Total documents: 158254\n"
     ]
    }
   ],
   "source": [
    "count = collection.count_documents({})\n",
    "print(f\"Total documents: {count}\")"
   ]
  },
  {
   "cell_type": "code",
   "execution_count": 29,
   "metadata": {},
   "outputs": [],
   "source": [
    "def get_count(path):\n",
    "    pipeline = [\n",
    "        { \"$match\": { f\"{path}\": { \"$exists\": True, \"$ne\": None } } },\n",
    "        { \"$count\": \"total\" }]  \n",
    "\n",
    "    result = list(collection.aggregate(pipeline))\n",
    "    count = result[0][\"total\"] if result else 0\n",
    "\n",
    "    print(f\"{path.split('.')[-1]}: {count}\")\n",
    "\n",
    "    return count\n",
    "\n"
   ]
  },
  {
   "cell_type": "code",
   "execution_count": null,
   "metadata": {},
   "outputs": [
    {
     "name": "stdout",
     "output_type": "stream",
     "text": [
      "dansTemporalSpatial:dansSpatialCoverageText: 154396\n",
      "dansTemporalSpatial:dansSpatialPoint: 56485\n",
      "dansTemporalSpatial:dansSpatialBox: 4445\n",
      "dansTemporalSpatial:dansSpatialCoverageControlled: 8274\n",
      "citation:dsDescription: 158254\n",
      "schema:name: 158253\n",
      "dansRelationMetadata:dansCollection: 43907\n"
     ]
    },
    {
     "data": {
      "text/plain": [
       "43907"
      ]
     },
     "execution_count": 30,
     "metadata": {},
     "output_type": "execute_result"
    }
   ],
   "source": [
    "# Get the count of documents with the field \"dansSpatialCoverageText\"\n",
    "get_count(\"ore:describes.dansTemporalSpatial:dansSpatialCoverageText\")\n",
    "get_count(\"ore:describes.dansTemporalSpatial:dansSpatialPoint\")\n",
    "get_count(\"ore:describes.dansTemporalSpatial:dansSpatialBox\")\n",
    "get_count(\"ore:describes.dansTemporalSpatial:dansSpatialCoverageControlled\")\n",
    "get_count(\"ore:describes.citation:dsDescription\")\n",
    "get_count(\"ore:describes.ore:aggregates.schema:name\")\n",
    "get_count(\"ore:describes.dansRelationMetadata:dansCollection\")\n",
    "\n"
   ]
  },
  {
   "cell_type": "code",
   "execution_count": null,
   "metadata": {},
   "outputs": [],
   "source": []
  }
 ],
 "metadata": {
  "kernelspec": {
   "display_name": "Python 3",
   "language": "python",
   "name": "python3"
  },
  "language_info": {
   "codemirror_mode": {
    "name": "ipython",
    "version": 3
   },
   "file_extension": ".py",
   "mimetype": "text/x-python",
   "name": "python",
   "nbconvert_exporter": "python",
   "pygments_lexer": "ipython3",
   "version": "3.12.3"
  }
 },
 "nbformat": 4,
 "nbformat_minor": 2
}
