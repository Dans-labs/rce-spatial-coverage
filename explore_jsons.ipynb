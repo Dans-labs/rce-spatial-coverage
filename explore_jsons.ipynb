{
 "cells": [
  {
   "cell_type": "markdown",
   "metadata": {},
   "source": [
    "# Explore metadata fields in the full archaeology dataset"
   ]
  },
  {
   "cell_type": "markdown",
   "metadata": {},
   "source": [
    "In the Notebook [collect_metadata.ipynb](collect_metadata.ipynb), I collected all metadata for the Archaeology Data Station through the API and saved it in a local MongoDB instance. \n",
    "\n",
    "The current Notebook contains code to get more insight into what's in the data. "
   ]
  },
  {
   "cell_type": "markdown",
   "metadata": {},
   "source": [
    "### Load data\n",
    "Here we make a connection to the MongoDB database where the JSONs are saved. They include the full metadata of all datasets in the Archaeology Data Station. "
   ]
  },
  {
   "cell_type": "code",
   "execution_count": 32,
   "metadata": {},
   "outputs": [],
   "source": [
    "from pymongo import MongoClient\n",
    "\n",
    "# Replace with your MongoDB connection string\n",
    "CONNECTION_STRING = \"mongodb://127.0.0.1:27018\"  # For local MongoDB\n",
    "\n",
    "# Connect to the database and collection\n",
    "client = MongoClient(CONNECTION_STRING)\n",
    "db = client[\"archaeology_metadata\"] # Create new database\n",
    "collection = db[\"collection\"] # Create new collection"
   ]
  },
  {
   "cell_type": "markdown",
   "metadata": {},
   "source": [
    "### Inspect data\n",
    "Let's get an idea of what's in the metadata. First we count the total number of datasets, then we see many datasets have values for a selection of fields that may include geospatial data. "
   ]
  },
  {
   "cell_type": "code",
   "execution_count": 53,
   "metadata": {},
   "outputs": [
    {
     "name": "stdout",
     "output_type": "stream",
     "text": [
      "Total documents in collection: 158254\n"
     ]
    }
   ],
   "source": [
    "count = collection.count_documents({})\n",
    "print(f\"Total documents in collection: {count}\")"
   ]
  },
  {
   "cell_type": "code",
   "execution_count": 56,
   "metadata": {},
   "outputs": [],
   "source": [
    "# This function counts the number of documents that have the specified field in the metadata\n",
    "\n",
    "def get_count(path):\n",
    "\n",
    "    \"\"\" \n",
    "    Print the count of the documents that have the specified field in the collection\n",
    "\n",
    "    :param path: The path to the field in the document \n",
    "    \"\"\"\n",
    "\n",
    "    pipeline = [\n",
    "        { \"$match\": { f\"{path}\": { \"$exists\": True, \"$ne\": None } } },\n",
    "        { \"$count\": \"total\" }]  \n",
    "\n",
    "    result = list(collection.aggregate(pipeline))\n",
    "    count = result[0][\"total\"] if result else 0\n",
    "\n",
    "    print(f\"{path.split('.')[-1]}: {count}\")\n",
    "\n",
    "    #return count"
   ]
  },
  {
   "cell_type": "markdown",
   "metadata": {},
   "source": [
    "In [findings.ipybn](findings.ipynb) you find a table with metadata fields that I identified earlier as possible containers of geospatial data in textual form. The cell below counts how many datasets have values in these fields. "
   ]
  },
  {
   "cell_type": "code",
   "execution_count": 55,
   "metadata": {},
   "outputs": [
    {
     "name": "stdout",
     "output_type": "stream",
     "text": [
      "dansTemporalSpatial:dansSpatialCoverageText: 154396\n",
      "dansTemporalSpatial:dansSpatialPoint: 56485\n",
      "dansTemporalSpatial:dansSpatialBox: 4445\n",
      "dansTemporalSpatial:dansSpatialCoverageControlled: 8274\n",
      "citation:dsDescription: 158254\n",
      "schema:name: 158253\n",
      "dansRelationMetadata:dansCollection: 43907\n",
      "citation:distributor: 50123\n"
     ]
    }
   ],
   "source": [
    "# Get the count of documents for various fields\n",
    "get_count(\"ore:describes.dansTemporalSpatial:dansSpatialCoverageText\")\n",
    "get_count(\"ore:describes.dansTemporalSpatial:dansSpatialPoint\")\n",
    "get_count(\"ore:describes.dansTemporalSpatial:dansSpatialBox\")\n",
    "get_count(\"ore:describes.dansTemporalSpatial:dansSpatialCoverageControlled\")\n",
    "get_count(\"ore:describes.citation:dsDescription\")\n",
    "get_count(\"ore:describes.ore:aggregates.schema:name\")\n",
    "get_count(\"ore:describes.dansRelationMetadata:dansCollection\")\n",
    "get_count(\"ore:describes.citation:distributor\") \n",
    "\n"
   ]
  },
  {
   "cell_type": "markdown",
   "metadata": {},
   "source": [
    "### Identify datasest with missing geospatial metadata\n",
    "I assume that the coordinates would be present in either one of two fields: `dansSpatialPoint` or `dansSpatialBox`. These fields can have specifications like the X/Y coordinates, or North box. If you're reading this, and you know there's another field where coordinates can be present, please let me know. "
   ]
  },
  {
   "cell_type": "code",
   "execution_count": null,
   "metadata": {},
   "outputs": [
    {
     "name": "stdout",
     "output_type": "stream",
     "text": [
      " 98412\n"
     ]
    }
   ],
   "source": [
    "# Count the number of documents where both geospatial fields are missing\n",
    "query = {\n",
    "    \"$and\": [\n",
    "        {\"ore:describes.dansTemporalSpatial:dansSpatialPoint\": {\"$exists\": False}},\n",
    "        {\"ore:describes.dansTemporalSpatial:dansSpatialBox\": {\"$exists\": False}}\n",
    "    ]}\n",
    "\n",
    "# Count the documents that match the query\n",
    "missing_fields_count = collection.count_documents(query)\n",
    "\n",
    "# Print the result\n",
    "print(f\" {missing_fields_count}\")\n"
   ]
  },
  {
   "cell_type": "markdown",
   "metadata": {},
   "source": [
    "For 98412 datasets, there is no value present in the 2 types of coordinate fields."
   ]
  },
  {
   "cell_type": "markdown",
   "metadata": {},
   "source": [
    "## Further inspect the datasets without geospatial data "
   ]
  },
  {
   "cell_type": "markdown",
   "metadata": {},
   "source": [
    "Let's extract the DOIs of some of the datasets with missing coordinates and manually inspect them. \n"
   ]
  },
  {
   "cell_type": "code",
   "execution_count": 114,
   "metadata": {},
   "outputs": [],
   "source": [
    "def select_values(field_path): \n",
    "\n",
    "\n",
    "    \"\"\"\n",
    "    Select the values of the specified field in the collection\n",
    "    In this function, only the data that does not have coordinates is selected \n",
    "\n",
    "    :param field_path: The path to the field in the JSON\n",
    "    :return: The values of the specified field\n",
    "        \n",
    "    \"\"\"\n",
    "\n",
    "    pipeline = [\n",
    "    {\n",
    "        \"$match\": {\n",
    "            \"$and\": [\n",
    "                {\"ore:describes.dansTemporalSpatial:dansSpatialPoint\": {\"$exists\": False}},\n",
    "                {\"ore:describes.dansTemporalSpatial:dansSpatialBox\": {\"$exists\": False}}\n",
    "            ]\n",
    "        }\n",
    "    },\n",
    "    {\n",
    "        \"$project\": {\n",
    "            \"_id\": 0,\n",
    "            f\"{field_path}\": 1\n",
    "        }\n",
    "    },\n",
    "    {\n",
    "        \"$group\": {\n",
    "            \"_id\": None,\n",
    "            \"values\": {\"$push\": f\"${field_path}\"}\n",
    "        }\n",
    "    },\n",
    "    {\n",
    "        \"$project\": {\n",
    "            \"_id\": 0,\n",
    "            \"values\": 1\n",
    "        }\n",
    "    }\n",
    "    ]\n",
    "\n",
    "    # Execute the aggregation pipeline\n",
    "    result = collection.aggregate(pipeline)\n",
    "\n",
    "    return result"
   ]
  },
  {
   "cell_type": "code",
   "execution_count": 109,
   "metadata": {},
   "outputs": [],
   "source": [
    "# Extract the list of values\n",
    "result = select_values(\"@id\")\n",
    "values_list = list(result)[0]['values'] if result else []\n"
   ]
  },
  {
   "cell_type": "markdown",
   "metadata": {},
   "source": [
    "You can manually inspect the following 50 datasets to verify there's no coordinates in the metadata, and to look for other fields. "
   ]
  },
  {
   "cell_type": "code",
   "execution_count": 116,
   "metadata": {},
   "outputs": [
    {
     "name": "stdout",
     "output_type": "stream",
     "text": [
      "https://archaeology.datastations.nl/api/datasets/export?exporter=OAI_ORE&persistentId=doi:10.17026/dans-246-zkdb\n",
      "https://archaeology.datastations.nl/api/datasets/export?exporter=OAI_ORE&persistentId=doi:10.17026/dans-zaz-bggb\n",
      "https://archaeology.datastations.nl/api/datasets/export?exporter=OAI_ORE&persistentId=doi:10.17026/dans-xgk-zzky\n",
      "https://archaeology.datastations.nl/api/datasets/export?exporter=OAI_ORE&persistentId=doi:10.17026/dans-zaa-rsht\n",
      "https://archaeology.datastations.nl/api/datasets/export?exporter=OAI_ORE&persistentId=doi:10.17026/dans-x8b-vxz8\n",
      "https://archaeology.datastations.nl/api/datasets/export?exporter=OAI_ORE&persistentId=doi:10.17026/dans-za2-essy\n",
      "https://archaeology.datastations.nl/api/datasets/export?exporter=OAI_ORE&persistentId=doi:10.17026/dans-xrw-terb\n",
      "https://archaeology.datastations.nl/api/datasets/export?exporter=OAI_ORE&persistentId=doi:10.17026/dans-z5j-bssu\n",
      "https://archaeology.datastations.nl/api/datasets/export?exporter=OAI_ORE&persistentId=doi:10.17026/dans-zut-5cxd\n",
      "https://archaeology.datastations.nl/api/datasets/export?exporter=OAI_ORE&persistentId=doi:10.17026/dans-zpc-86ny\n",
      "https://archaeology.datastations.nl/api/datasets/export?exporter=OAI_ORE&persistentId=doi:10.17026/dans-z4f-sx6c\n",
      "https://archaeology.datastations.nl/api/datasets/export?exporter=OAI_ORE&persistentId=doi:10.17026/dans-z8a-ja6p\n",
      "https://archaeology.datastations.nl/api/datasets/export?exporter=OAI_ORE&persistentId=doi:10.17026/dans-xwf-sun4\n",
      "https://archaeology.datastations.nl/api/datasets/export?exporter=OAI_ORE&persistentId=doi:10.17026/dans-zpt-qu76\n",
      "https://archaeology.datastations.nl/api/datasets/export?exporter=OAI_ORE&persistentId=doi:10.17026/dans-x8r-h7az\n",
      "https://archaeology.datastations.nl/api/datasets/export?exporter=OAI_ORE&persistentId=doi:10.17026/dans-zkz-8nb2\n",
      "https://archaeology.datastations.nl/api/datasets/export?exporter=OAI_ORE&persistentId=doi:10.17026/dans-xw8-ddh3\n",
      "https://archaeology.datastations.nl/api/datasets/export?exporter=OAI_ORE&persistentId=doi:10.17026/dans-xsr-vxjz\n",
      "https://archaeology.datastations.nl/api/datasets/export?exporter=OAI_ORE&persistentId=doi:10.17026/dans-zf2-pttt\n",
      "https://archaeology.datastations.nl/api/datasets/export?exporter=OAI_ORE&persistentId=doi:10.17026/dans-x8t-uuve\n",
      "https://archaeology.datastations.nl/api/datasets/export?exporter=OAI_ORE&persistentId=doi:10.17026/dans-2bp-sdu4\n",
      "https://archaeology.datastations.nl/api/datasets/export?exporter=OAI_ORE&persistentId=doi:10.17026/dans-xvu-a89s\n",
      "https://archaeology.datastations.nl/api/datasets/export?exporter=OAI_ORE&persistentId=doi:10.17026/dans-26e-344z\n",
      "https://archaeology.datastations.nl/api/datasets/export?exporter=OAI_ORE&persistentId=doi:10.17026/dans-2cx-jfu9\n",
      "https://archaeology.datastations.nl/api/datasets/export?exporter=OAI_ORE&persistentId=doi:10.17026/dans-xn6-jwwg\n",
      "https://archaeology.datastations.nl/api/datasets/export?exporter=OAI_ORE&persistentId=doi:10.17026/dans-zrh-2jzt\n",
      "https://archaeology.datastations.nl/api/datasets/export?exporter=OAI_ORE&persistentId=doi:10.17026/dans-x3y-ry3d\n",
      "https://archaeology.datastations.nl/api/datasets/export?exporter=OAI_ORE&persistentId=doi:10.17026/dans-z5r-atkg\n",
      "https://archaeology.datastations.nl/api/datasets/export?exporter=OAI_ORE&persistentId=doi:10.17026/dans-xup-vutf\n",
      "https://archaeology.datastations.nl/api/datasets/export?exporter=OAI_ORE&persistentId=doi:10.17026/dans-x9e-7xnu\n",
      "https://archaeology.datastations.nl/api/datasets/export?exporter=OAI_ORE&persistentId=doi:10.17026/dans-x8p-z4hp\n",
      "https://archaeology.datastations.nl/api/datasets/export?exporter=OAI_ORE&persistentId=doi:10.17026/dans-2cu-ra48\n",
      "https://archaeology.datastations.nl/api/datasets/export?exporter=OAI_ORE&persistentId=doi:10.17026/dans-zvx-6rqw\n",
      "https://archaeology.datastations.nl/api/datasets/export?exporter=OAI_ORE&persistentId=doi:10.17026/dans-zuc-27zb\n",
      "https://archaeology.datastations.nl/api/datasets/export?exporter=OAI_ORE&persistentId=doi:10.17026/dans-zaw-ywwu\n",
      "https://archaeology.datastations.nl/api/datasets/export?exporter=OAI_ORE&persistentId=doi:10.17026/dans-x5m-dtjc\n",
      "https://archaeology.datastations.nl/api/datasets/export?exporter=OAI_ORE&persistentId=doi:10.17026/dans-xta-gyye\n",
      "https://archaeology.datastations.nl/api/datasets/export?exporter=OAI_ORE&persistentId=doi:10.17026/dans-2ca-z8fp\n",
      "https://archaeology.datastations.nl/api/datasets/export?exporter=OAI_ORE&persistentId=doi:10.17026/dans-2zv-e83q\n",
      "https://archaeology.datastations.nl/api/datasets/export?exporter=OAI_ORE&persistentId=https://doi.org/10.17026/dans-28y-hc22\n",
      "https://archaeology.datastations.nl/api/datasets/export?exporter=OAI_ORE&persistentId=doi:10.17026/dans-xum-w26n\n",
      "https://archaeology.datastations.nl/api/datasets/export?exporter=OAI_ORE&persistentId=doi:10.17026/dans-23m-cb86\n",
      "https://archaeology.datastations.nl/api/datasets/export?exporter=OAI_ORE&persistentId=doi:10.17026/dans-zjp-vxk5\n",
      "https://archaeology.datastations.nl/api/datasets/export?exporter=OAI_ORE&persistentId=doi:10.17026/dans-xny-7t3f\n",
      "https://archaeology.datastations.nl/api/datasets/export?exporter=OAI_ORE&persistentId=doi:10.17026/dans-xsg-6eue\n",
      "https://archaeology.datastations.nl/api/datasets/export?exporter=OAI_ORE&persistentId=doi:10.17026/dans-zge-k3tb\n",
      "https://archaeology.datastations.nl/api/datasets/export?exporter=OAI_ORE&persistentId=doi:10.17026/dans-z39-qddd\n",
      "https://archaeology.datastations.nl/api/datasets/export?exporter=OAI_ORE&persistentId=doi:10.17026/dans-zg8-qz3j\n",
      "https://archaeology.datastations.nl/api/datasets/export?exporter=OAI_ORE&persistentId=doi:10.17026/dans-xbp-c4ss\n",
      "https://archaeology.datastations.nl/api/datasets/export?exporter=OAI_ORE&persistentId=doi:10.17026/dans-28s-abws\n"
     ]
    }
   ],
   "source": [
    "# Print only the first 50 values\n",
    "for url in values_list[:50]:\n",
    "    print(url)"
   ]
  },
  {
   "cell_type": "markdown",
   "metadata": {},
   "source": [
    "### Inspect distributor "
   ]
  },
  {
   "cell_type": "code",
   "execution_count": 120,
   "metadata": {},
   "outputs": [],
   "source": [
    "distributors = select_values(\"ore:describes.citation:distributor\")\n",
    "distributors_list = list(distributors)[0]['values'] if distributors else [] "
   ]
  },
  {
   "cell_type": "code",
   "execution_count": 143,
   "metadata": {},
   "outputs": [
    {
     "data": {
      "text/plain": [
       "{'Batavialand': 504,\n",
       " 'RAAP Archeologisch Adviesbureau': 480,\n",
       " 'Bilan, Fontys Hogescholen': 362,\n",
       " 'Synthegra': 230,\n",
       " 'De Steekproef, archeologisch onderzoeks- en adviesbureau': 163,\n",
       " 'SOB Research': 151,\n",
       " 'RAAP': 149,\n",
       " 'Bureau Oudheidkundig Onderzoek van Gemeentewerken Rotterdam': 148,\n",
       " 'Grontmij': 102,\n",
       " 'Stichting RAAP': 90,\n",
       " 'BAAC bv': 85,\n",
       " 'Scarab': 81,\n",
       " 'Artefact! Advies en Onderzoek in Erfgoed': 80,\n",
       " 'Synthegra Archeologie bv': 68,\n",
       " 'BAAC': 60,\n",
       " 'Archeoplan Eco': 57,\n",
       " 'Rijksmuseum van Oudheden': 56,\n",
       " 'Stichting Raap': 51,\n",
       " 'De Steekproef': 48,\n",
       " 'ArchaeoBone': 46,\n",
       " 'ROB': 42,\n",
       " 'Leiden University Press': 36,\n",
       " 'Rijksdienst voor het Cultureel Erfgoed': 35,\n",
       " 'Historische Vereniging Holland': 34,\n",
       " 'KSP Archeologie': 32,\n",
       " 'Synthegra B.V.': 30,\n",
       " 'ADC': 27,\n",
       " 'MUG Ingenieursbureau': 24,\n",
       " 'Hazenberg Archeologie': 23,\n",
       " 'Econsultancy BV': 23,\n",
       " 'ADC ArcheoProjecten': 20,\n",
       " 'BAAC.BV': 20,\n",
       " 'Synthegra bv': 18,\n",
       " 'Jacobs en Burnier, archeologisch projectbureau': 18,\n",
       " 'ROB, Amersfoort': 17,\n",
       " 'BOOR': 16,\n",
       " 'RAAP Archeologisch Adviesbureau BV': 16,\n",
       " 'Transect': 13,\n",
       " 'Archeologisch Diensten Centrum': 12,\n",
       " 'Gemeente Den Haag, Dienst Stadsbeheer, Afdeling Archeologie': 12,\n",
       " 'Oranjewoud': 12,\n",
       " 'Hollandia Archeologie': 12,\n",
       " 'Bureau Oudheidkundig Onderzoek van Gemeente Rotterdam': 11,\n",
       " 'VOM': 11,\n",
       " 'ARC b.v.': 11,\n",
       " 'Gemeente Breda': 11,\n",
       " 'Antea Group': 10,\n",
       " 'Erfgoedhuis Zuid-Holland': 10,\n",
       " 'Bureau voor Archeologie': 9,\n",
       " 'Vlaardings Archeologisch Kantoor': 9,\n",
       " 'E. Krist': 9,\n",
       " 'Synthegra Archeologie bv, Zelhem': 9,\n",
       " 'AAC Projectenbureau': 9,\n",
       " 'Faculteit der Archeologie, Universiteit Leiden': 8,\n",
       " 'Rijksdienst voor Archeologie, Cultuurlandschap en Monumenten': 7,\n",
       " 'Archol B.V., Leiden': 7,\n",
       " 'RAAP Archeologisch Adviesbureau B.V.': 7,\n",
       " 'MUG Ingenieursbureau b.v.': 7,\n",
       " 'ROB Amersfoort': 7,\n",
       " 'Archol': 6,\n",
       " 'Sidestone Press': 6,\n",
       " 'Dienst Ruimtelijke Ordening en Economische Zaken van de Gemeente Groningen en Stichting Monument & Materiaal Groningen': 6,\n",
       " 'Nipides': 6,\n",
       " 'Rijksdienst voor het Oudheidkundig Bodemonderzoek': 5,\n",
       " 'Faculty of Archaeology, Leiden University': 5,\n",
       " 'Archol B.V.': 5,\n",
       " 'Econsultancy': 5,\n",
       " 'Stichting R.A.A.P.': 4,\n",
       " 'Vestigia Archeologie & Cultuurhistorie': 4,\n",
       " 'ArcheoService': 4,\n",
       " 'RAAP Archeologisch Adviesbureau bv': 4,\n",
       " 'BIAX Consult': 4,\n",
       " 'IDDS Archeologie': 4,\n",
       " 'Laagland Archeologie': 4,\n",
       " 'Sweco': 3,\n",
       " 'Gemeente Amsterdam': 3,\n",
       " 'Arcadis': 3,\n",
       " 'RAAP Archeologisch Adviesbureau B.V., Amsterdam': 3,\n",
       " 'Jacobs en Burnier': 3,\n",
       " 'Faculteit archeologie, Universiteit Leiden': 3,\n",
       " 'Faculteit Archeologie, Universiteit Leiden': 3,\n",
       " 'Provincie Noord-Holland, Huis van Hilde, Castricum': 3,\n",
       " 'ODZOB': 3,\n",
       " 'Archeologenbureau Argo': 3,\n",
       " 'ADC Archeoprojecten': 3,\n",
       " 'Greenhouse Advies': 3,\n",
       " 'Synthegra BV': 3,\n",
       " 'Haveka': 3,\n",
       " 'Vuhbs Archeologie': 3,\n",
       " 'SPA': 3,\n",
       " 'ADC-ArcheoProjecten': 2,\n",
       " 'Stichting Cultureel Erfgoed Noord-Holland': 2,\n",
       " 'Grontmij Nederland B.V.': 2,\n",
       " 'ArGeoBoor': 2,\n",
       " 'Stichting RAAP, Amsterdam': 2,\n",
       " 'RAAP B.V.': 2,\n",
       " 'Gemeente Den Haag; Dienst Stadsbeheer; Afdeling Archeologie': 2,\n",
       " 'Gemeente Vlaardingen, Dienst Stadswerk/Bureau Archeologie': 2,\n",
       " 'Gemeente Den Haag, Dienst Stadsbeheer': 2,\n",
       " 'De Steekproef, Archeologisch Onderzoeks- en Adviesbureau': 2,\n",
       " 'Periplus Archeomare': 2,\n",
       " 'Krist, E.': 2,\n",
       " 'Stichting Steunpunt Cultureel Erfgoed Noord-Holland': 2,\n",
       " 'Vestigia BV': 2,\n",
       " 'Faculty of Archaeology, Universiteit Leiden': 2,\n",
       " 'Cultural Heritage Agency of the Netherlands': 2,\n",
       " 'gemeente Breda': 2,\n",
       " 'Projectgroep Archeologie HSL-Zuid/A16': 2,\n",
       " 'Gemeente Deventer': 2,\n",
       " 'Grimm, J.': 2,\n",
       " 'Leiden University': 2,\n",
       " 'Jonge, de L.': 2,\n",
       " 'T&ASurvey': 2,\n",
       " 'IVO·B, Allround Archeologie': 1,\n",
       " 'Arcadis Nederland B.V.': 1,\n",
       " 'Greenhouse Advies bv': 1,\n",
       " 'Faculteit der Archeologie, Leiden': 1,\n",
       " 'Laagland archeologie': 1,\n",
       " 'Nieuwe Drentse Volksalmanak': 1,\n",
       " 'Stichting Cultuuurcompagnie Noord-Holland': 1,\n",
       " 'Amsterdam University Press': 1,\n",
       " 'Omgevingsdienst regio Utrecht': 1,\n",
       " 'Antea  Group': 1,\n",
       " 'Gemeente Dordrecht, Bureau Monumentenzorg en Archeologie': 1,\n",
       " 'Universiteit van Amsterdam': 1,\n",
       " 'Bureau Archeologie. Gemeente Almere': 1,\n",
       " 'Bureau Interdisciplinaire Landschapsanalyse (BILAN)': 1,\n",
       " 'Archeologisch Onderzoek Leiden BV': 1,\n",
       " 'Arnoldussen / Ball / Archol bv': 1,\n",
       " 'Gemeente Vlaardingen, Dienst Stadswerk, Bureau Archeologie en Monumentenzorg': 1,\n",
       " 'TNO (in samenwerking met De Steekproef)': 1,\n",
       " 'Archol bv': 1,\n",
       " 'Gemeente Den Haag, Dienste Stadsbeheer, Afdeling Archeologie': 1,\n",
       " 'Gemeente Den-Haag, dienst Stadsbeheer, Afdeling Archeologie': 1,\n",
       " 'Archeologie Rotterdam': 1,\n",
       " 'Aeres Milieu': 1,\n",
       " 'EARTH Integrated Archaeology B.V.': 1,\n",
       " 'Uitgeverij Aksant': 1,\n",
       " 'Salisbury Archeologie B.V.': 1,\n",
       " 'Vestigia BV Archeologie & Cultuurhistorie': 1,\n",
       " 'STRABO': 1,\n",
       " 'Geonius': 1,\n",
       " 'Greenhouse Advies BV': 1,\n",
       " 'MUG Ingenieursbureau BV': 1,\n",
       " 'DendroNet': 1,\n",
       " 'Radboud Universiteit Nijmegen': 1,\n",
       " 'Vestigia': 1,\n",
       " 'Bodac': 1,\n",
       " 'RACM': 1,\n",
       " 'Idds Archeologie': 1,\n",
       " 'Rijkswaterstaat - De Maaswerken, Maastricht (Ministerie van Verkeer en Waterstaat)': 1,\n",
       " 'Gildeprint-Enschede': 1,\n",
       " 'Artefact! Advies en onderzoek in Erfgoed': 1,\n",
       " 'BAAC BV': 1,\n",
       " 'Artefact!Advies en Onderzoek in Erfgoed': 1,\n",
       " 'Sidestone Press Leiden': 1,\n",
       " 'Data Archiving and Network Services': 1,\n",
       " 'AAC, UvA': 1,\n",
       " 'ARC bv': 1,\n",
       " 'ADC-Archeoprojecten': 1,\n",
       " 'Periplus Archeomare B.V., Amsterdam': 1,\n",
       " 'Gemeente Den Haag, dienst Stadsbeheer, afdeling archeologie': 1,\n",
       " 'Salisbury Archeologie b.v.': 1,\n",
       " 'Gemeente Den Haag': 1,\n",
       " 'Habelt Verlag Bonn': 1,\n",
       " 'SIKB (Stichting Infrastructuur Kwaliteitsborging Bodembeheer)': 1,\n",
       " 'Rijksdiens voor het Cultureel Erfgoed': 1,\n",
       " 'Fries Museum': 1,\n",
       " 'Sufyan Al Karaimeh': 1,\n",
       " 'Rijksdienst voor het Cultureel Erfgoed,': 1,\n",
       " 'Rijksuniversiteit Groningen': 1,\n",
       " 'Jos Kleijne': 1,\n",
       " 'Universiteit Leiden': 1,\n",
       " 'Jansma, E.': 1,\n",
       " 'RAAP Archeologisch Adviesbureau, 1998': 1,\n",
       " 'Buro de Brug': 1,\n",
       " 'GERMANIA. Anzeiger der Römisch-Germanischen Kommission des Deutschen Archäologischen Instituts': 1,\n",
       " 'Stone Age, archeologisch onderzoek en advies, Swalmen': 1,\n",
       " 'Sweco BV': 1,\n",
       " 'Wout Arentzen': 1,\n",
       " 'Artefact! AdviesenOnderzoekinErfgoed': 1,\n",
       " 'Journal of Archaeology in the Low Countries (JALC)': 1,\n",
       " 'Artefact': 1,\n",
       " 'Archol BV': 1,\n",
       " 'RACM, Kerkstraat 1, 3811 CV Amersfoort': 1,\n",
       " 'RCE, Smallepad 5, 3811 MG Amersfoort': 1,\n",
       " 'ADC ArcheoProjecten BV': 1,\n",
       " 'ARCHOL': 1,\n",
       " '9073104955': 1,\n",
       " 'ROB, Amsterdam & Amersfoort': 1,\n",
       " 'BAI, Groningen': 1,\n",
       " 'ACVU-HBS': 1,\n",
       " 'The Faculty of Archaeology at Leiden University': 1,\n",
       " 'Gemeente Nijmegen, Bureau Leefomgevingskwaliteit, Archeologie': 1,\n",
       " 'Assist Explore B.V.': 1,\n",
       " 'Gemeente Nijmegen': 1,\n",
       " 'Nieuw Land Erfgoedcentrum': 1,\n",
       " 'ACVU-HBS Amsterdam': 1,\n",
       " 'Groningen Institute of Archaeology, University of Groningen': 1,\n",
       " 'RUG - Groninger Instituut voor Archeologie': 1,\n",
       " 'Haveka, Alblasserdam': 1,\n",
       " 'Huis van het boek': 1,\n",
       " 'Provincie Noord-Holland': 1,\n",
       " 'Nollen, J.': 1,\n",
       " 'Vestigia b.v.': 1,\n",
       " 'Synthegra archeologie bv': 1,\n",
       " 'Boom': 1,\n",
       " 'Rijksdienst voor het Cultureelr Erfgoed': 1,\n",
       " 'Oranjewoud BV': 1,\n",
       " 'GEO-LOGICAL Delft': 1,\n",
       " 'Gemeente Vlaardingen Dienst Stadswerk, Bureau Archeologie en Monumentenzorg': 1,\n",
       " 'Afdeling Archeologie, Dienst Stadsbeheer, Gemeente Den Haag': 1,\n",
       " 'Deutsches Bergbau-Museums, der Verein der Freunde von Kunst und Kultur im Bergbau': 1,\n",
       " 'University of Groningen': 1,\n",
       " 'Department of Caribbean Archaeology, Faculty of Archaeology, Leiden University': 1,\n",
       " 'gemeente Vlaardingen, Dienst Stadswerk/Bureau Archeologie': 1,\n",
       " 'RAAP Archeologisch Adviesbureau B.V. 2003': 1,\n",
       " 'RACM Amersfoort': 1,\n",
       " 'Arcadis Nederland BV': 1,\n",
       " 'Stichting Archeologie': 1,\n",
       " 'ADT .v.o.f.': 1,\n",
       " 'Bureau Archeologie en Monumentenzorg Gemeente Almere': 1,\n",
       " 'Gemeente Almere Bureau Archeologie en Monumentenzorg': 1,\n",
       " 'F. Hogenboom / VU Amsterdam / Milieudienst Zuidoost-Utrecht / Provincie Utrecht': 1,\n",
       " 'Vergeten Landschap': 1,\n",
       " 'Vlaardings Archeologisch Kantoor (VLAK), gemeente Vlaardingen': 1,\n",
       " 'Grontmij Overijssel, Projectbureau DAR': 1,\n",
       " 'Geoarchaeology': 1}"
      ]
     },
     "execution_count": 143,
     "metadata": {},
     "output_type": "execute_result"
    }
   ],
   "source": [
    "from collections import Counter \n",
    "\n",
    "distribs = []\n",
    "\n",
    "for dist in distributors_list:\n",
    "    if type(dist) == dict:\n",
    "        #print(list(dist.values())[0])\n",
    "        distribs.append(list(dist.values())[0])\n",
    "    else: \n",
    "        #print(dist)\n",
    "        continue\n",
    "\n",
    "# Count the number of occurrences of each distributor\n",
    "distributors_count = Counter(distribs)\n",
    "\n",
    "# Sort the distributors by the number of occurrences\n",
    "sorted_dist = dict(sorted(distributors_count.items(), key=lambda item: item[1], reverse=True))\n",
    "sorted_dist"
   ]
  },
  {
   "cell_type": "markdown",
   "metadata": {},
   "source": [
    "## Scrap\n",
    "Below I put some code that I may use later"
   ]
  },
  {
   "cell_type": "code",
   "execution_count": 43,
   "metadata": {},
   "outputs": [],
   "source": [
    "# Check counts of distinct values in the field \"citation:distributor\"\n",
    "pipeline = [\n",
    "    { \"$group\": { \"_id\": \"$ore:describes.citation:distributor\", \"count\": { \"$sum\": 1 } } },\n",
    "    { \"$sort\": { \"count\": -1 } }\n",
    "]\n",
    "\n",
    "result = list(collection.aggregate(pipeline))\n",
    "result = sorted(result, key=lambda x: x[\"count\"], reverse=True)\n"
   ]
  },
  {
   "cell_type": "code",
   "execution_count": null,
   "metadata": {},
   "outputs": [],
   "source": [
    "result"
   ]
  }
 ],
 "metadata": {
  "kernelspec": {
   "display_name": "Python 3",
   "language": "python",
   "name": "python3"
  },
  "language_info": {
   "codemirror_mode": {
    "name": "ipython",
    "version": 3
   },
   "file_extension": ".py",
   "mimetype": "text/x-python",
   "name": "python",
   "nbconvert_exporter": "python",
   "pygments_lexer": "ipython3",
   "version": "3.12.3"
  }
 },
 "nbformat": 4,
 "nbformat_minor": 2
}
