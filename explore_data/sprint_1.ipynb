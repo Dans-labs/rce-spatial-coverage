{
 "cells": [
  {
   "cell_type": "markdown",
   "metadata": {},
   "source": [
    "# Sprint 1: Identify missing coordinate schemes \n"
   ]
  },
  {
   "cell_type": "markdown",
   "metadata": {},
   "source": [
    "## Read all data \n",
    "Make sure the collected data is up-to-date. Run [`find_new_deposits.ipynb`](../collect_data/find_new_deposits.ipynb) and [`collect_metadata.ipynb`](../collect_data/collect_metadata.ipynb) first to download metadata until current date. "
   ]
  },
  {
   "cell_type": "code",
   "execution_count": 114,
   "metadata": {},
   "outputs": [],
   "source": [
    "import sys\n",
    "# Specify the path to the scripts folder\n",
    "sys.path.append('../scripts/')\n",
    "from mongodb import load_data"
   ]
  },
  {
   "cell_type": "code",
   "execution_count": 115,
   "metadata": {},
   "outputs": [],
   "source": [
    "collection = load_data()\n"
   ]
  },
  {
   "cell_type": "markdown",
   "metadata": {},
   "source": [
    "## Identify instances where the Scheme is missing but not the points. "
   ]
  },
  {
   "cell_type": "code",
   "execution_count": 97,
   "metadata": {},
   "outputs": [],
   "source": [
    "# For Points: \n",
    "#fields_present = [\"ore:describes.dansTemporalSpatial:dansSpatialPoint.dansTemporalSpatial:dansSpatialPointX\", \"ore:describes.dansTemporalSpatial:dansSpatialPoint.dansTemporalSpatial:dansSpatialPointY\"]\n",
    "#fields_absent = [\"ore:describes.dansTemporalSpatial:dansSpatialPoint.dansTemporalSpatial:dansSpatialPointScheme\"]\n",
    "\n",
    "# For Box: \n",
    "fields_present = [\"ore:describes.dansTemporalSpatial:dansSpatialBox.dansTemporalSpatial:dansSpatialBoxNorth\", \"ore:describes.dansTemporalSpatial:dansSpatialBox.dansTemporalSpatial:dansSpatialBoxSouth\", \"ore:describes.dansTemporalSpatial:dansSpatialBox.dansTemporalSpatial:dansSpatialBoxEast\", \"ore:describes.dansTemporalSpatial:dansSpatialBox.dansTemporalSpatial:dansSpatialBoxWest\"]\n",
    "fields_absent = [\"ore:describes.dansTemporalSpatial:dansSpatialBox.dansTemporalSpatial:dansSpatialBoxScheme\"]"
   ]
  },
  {
   "cell_type": "code",
   "execution_count": 98,
   "metadata": {},
   "outputs": [],
   "source": [
    "query = {\n",
    "    \"$and\":[\n",
    "        {\"$or\": [{x: {\"$exists\": True} for x in fields_present}]},\n",
    "        {\"$or\": [{x: {\"$exists\": False} for x in fields_absent}]}\n",
    "    ], \n",
    "}\n",
    "\n",
    "projection = {\n",
    "        '@id': 1,\n",
    "        'ore:describes.dansTemporalSpatial:dansSpatialPoint.dansTemporalSpatial:dansSpatialPointX': 1,\n",
    "        'ore:describes.dansTemporalSpatial:dansSpatialPoint.dansTemporalSpatial:dansSpatialPointY': 1,\n",
    "        'ore:describes.dansTemporalSpatial:dansSpatialPoint.dansTemporalSpatial:dansSpatialPointScheme': 1,\n",
    "        'ore:describes.dansTemporalSpatial:dansSpatialBox.dansTemporalSpatial:dansSpatialBoxNorth': 1,\n",
    "        'ore:describes.dansTemporalSpatial:dansSpatialBox.dansTemporalSpatial:dansSpatialBoxSouth': 1,\n",
    "        'ore:describes.dansTemporalSpatial:dansSpatialBox.dansTemporalSpatial:dansSpatialBoxEast': 1,\n",
    "        'ore:describes.dansTemporalSpatial:dansSpatialBox.dansTemporalSpatial:dansSpatialBoxWest': 1,\n",
    "        'ore:describes.dansTemporalSpatial:dansSpatialBox.dansTemporalSpatial:dansSpatialBoxScheme': 1,\n",
    "        '_id': 0\n",
    "    }\n",
    "\n"
   ]
  },
  {
   "cell_type": "code",
   "execution_count": 99,
   "metadata": {},
   "outputs": [
    {
     "name": "stdout",
     "output_type": "stream",
     "text": [
      "{'@id': 'https://archaeology.datastations.nl/api/datasets/export?exporter=OAI_ORE&persistentId=https://doi.org/10.17026/AR/JIHOJG', 'ore:describes': {'dansTemporalSpatial:dansSpatialBox': {'dansTemporalSpatial:dansSpatialBoxNorth': '402735', 'dansTemporalSpatial:dansSpatialBoxEast': '148400', 'dansTemporalSpatial:dansSpatialBoxSouth': '402686', 'dansTemporalSpatial:dansSpatialBoxWest': '148311'}}}\n",
      "{'@id': 'https://archaeology.datastations.nl/api/datasets/export?exporter=OAI_ORE&persistentId=https://doi.org/10.17026/AR/GFWYG9', 'ore:describes': {'dansTemporalSpatial:dansSpatialBox': {'dansTemporalSpatial:dansSpatialBoxNorth': '425246', 'dansTemporalSpatial:dansSpatialBoxEast': '171940', 'dansTemporalSpatial:dansSpatialBoxSouth': '425194', 'dansTemporalSpatial:dansSpatialBoxWest': '171908'}}}\n",
      "{'@id': 'https://archaeology.datastations.nl/api/datasets/export?exporter=OAI_ORE&persistentId=https://doi.org/10.17026/AR/WCWGWE', 'ore:describes': {'dansTemporalSpatial:dansSpatialBox': {'dansTemporalSpatial:dansSpatialBoxNorth': '351860', 'dansTemporalSpatial:dansSpatialBoxEast': '351916', 'dansTemporalSpatial:dansSpatialBoxSouth': '351820', 'dansTemporalSpatial:dansSpatialBoxWest': '351786'}}}\n",
      "{'@id': 'https://archaeology.datastations.nl/api/datasets/export?exporter=OAI_ORE&persistentId=https://doi.org/10.17026/AR/SWIA0R', 'ore:describes': {'dansTemporalSpatial:dansSpatialBox': {'dansTemporalSpatial:dansSpatialBoxNorth': '601581', 'dansTemporalSpatial:dansSpatialBoxEast': '225187', 'dansTemporalSpatial:dansSpatialBoxSouth': '601512', 'dansTemporalSpatial:dansSpatialBoxWest': '225142'}}}\n",
      "{'@id': 'https://archaeology.datastations.nl/api/datasets/export?exporter=OAI_ORE&persistentId=https://doi.org/10.17026/AR/10I34B', 'ore:describes': {'dansTemporalSpatial:dansSpatialBox': {'dansTemporalSpatial:dansSpatialBoxNorth': '431052', 'dansTemporalSpatial:dansSpatialBoxEast': '179423', 'dansTemporalSpatial:dansSpatialBoxSouth': '428565', 'dansTemporalSpatial:dansSpatialBoxWest': '175108'}}}\n"
     ]
    }
   ],
   "source": [
    "results = collection.find(query, projection)\n",
    "data = []\n",
    "for result in results:\n",
    "    print(result)\n",
    "    data.append(dict(result))"
   ]
  },
  {
   "cell_type": "code",
   "execution_count": null,
   "metadata": {},
   "outputs": [],
   "source": []
  },
  {
   "cell_type": "code",
   "execution_count": 100,
   "metadata": {},
   "outputs": [],
   "source": [
    "import json\n",
    "with open(\"../../data/sprint1/sp1_no_box_scheme.json\", \"w\") as outfile: \n",
    "    json.dump(data, outfile, indent=4)"
   ]
  },
  {
   "cell_type": "markdown",
   "metadata": {},
   "source": [
    "## Identify cases where Points/Boxes are incomplete "
   ]
  },
  {
   "cell_type": "code",
   "execution_count": 116,
   "metadata": {},
   "outputs": [],
   "source": [
    "# Points \n",
    "points = [\"ore:describes.dansTemporalSpatial:dansSpatialPoint.dansTemporalSpatial:dansSpatialPointX\", \"ore:describes.dansTemporalSpatial:dansSpatialPoint.dansTemporalSpatial:dansSpatialPointY\"]\n",
    "\n",
    "# Box\n",
    "box = [\"ore:describes.dansTemporalSpatial:dansSpatialBox.dansTemporalSpatial:dansSpatialBoxNorth\", \"ore:describes.dansTemporalSpatial:dansSpatialBox.dansTemporalSpatial:dansSpatialBoxSouth\", \"ore:describes.dansTemporalSpatial:dansSpatialBox.dansTemporalSpatial:dansSpatialBoxEast\", \"ore:describes.dansTemporalSpatial:dansSpatialBox.dansTemporalSpatial:dansSpatialBoxWest\"]\n",
    "\n"
   ]
  },
  {
   "cell_type": "code",
   "execution_count": 125,
   "metadata": {},
   "outputs": [],
   "source": [
    "# Note on the following query: \n",
    "# The * operator is used to unpack the list of dictionaries created by the list comprehension. \n",
    "# This is required because the $or operator expects a list of conditions, not a list of lists.\n",
    "\n",
    "query = {\n",
    "    \"$and\": [\n",
    "        # At least one field exists in 'points' OR 'box'\n",
    "        {\n",
    "            \"$or\": [\n",
    "                *[{field: {\"$exists\": True}} for field in points],  # Any field in 'points'\n",
    "                *[{field: {\"$exists\": True}} for field in box]      # Any field in 'box'\n",
    "            ]\n",
    "        },\n",
    "        # Exclude documents with ALL fields in 'points'\n",
    "        {\"$nor\": [{field: {\"$exists\": True} for field in points}]},\n",
    "        # Exclude documents with ALL fields in 'box'\n",
    "        {\"$nor\": [{field: {\"$exists\": True} for field in box}]}\n",
    "    ]\n",
    "}\n",
    "\n",
    "\n",
    "projection = {\n",
    "        '@id': 1,\n",
    "        'ore:describes.dansTemporalSpatial:dansSpatialPoint.dansTemporalSpatial:dansSpatialPointX': 1,\n",
    "        'ore:describes.dansTemporalSpatial:dansSpatialPoint.dansTemporalSpatial:dansSpatialPointY': 1,\n",
    "        'ore:describes.dansTemporalSpatial:dansSpatialPoint.dansTemporalSpatial:dansSpatialPointScheme': 1,\n",
    "        'ore:describes.dansTemporalSpatial:dansSpatialBox.dansTemporalSpatial:dansSpatialBoxNorth': 1,\n",
    "        'ore:describes.dansTemporalSpatial:dansSpatialBox.dansTemporalSpatial:dansSpatialBoxSouth': 1,\n",
    "        'ore:describes.dansTemporalSpatial:dansSpatialBox.dansTemporalSpatial:dansSpatialBoxEast': 1,\n",
    "        'ore:describes.dansTemporalSpatial:dansSpatialBox.dansTemporalSpatial:dansSpatialBoxWest': 1,\n",
    "        'ore:describes.dansTemporalSpatial:dansSpatialBox.dansTemporalSpatial:dansSpatialBoxScheme': 1,\n",
    "        '_id': 0\n",
    "    }"
   ]
  },
  {
   "cell_type": "code",
   "execution_count": 126,
   "metadata": {},
   "outputs": [
    {
     "name": "stdout",
     "output_type": "stream",
     "text": [
      "{'@id': 'https://archaeology.datastations.nl/api/datasets/export?exporter=OAI_ORE&persistentId=https://doi.org/10.17026/AR/HD2TLR', 'ore:describes': {'dansTemporalSpatial:dansSpatialBox': {'dansTemporalSpatial:dansSpatialBoxNorth': '201463', 'dansTemporalSpatial:dansSpatialBoxEast': '357111', 'dansTemporalSpatial:dansSpatialBoxScheme': 'RD (in m.)'}}}\n",
      "{'@id': 'https://archaeology.datastations.nl/api/datasets/export?exporter=OAI_ORE&persistentId=https://doi.org/10.17026/AR/FRDQG8', 'ore:describes': {'dansTemporalSpatial:dansSpatialBox': {'dansTemporalSpatial:dansSpatialBoxNorth': '121924', 'dansTemporalSpatial:dansSpatialBoxEast': '478749', 'dansTemporalSpatial:dansSpatialBoxScheme': 'RD (in m.)'}}}\n",
      "{'@id': 'https://archaeology.datastations.nl/api/datasets/export?exporter=OAI_ORE&persistentId=https://doi.org/10.17026/AR/JRFSCS', 'ore:describes': {'dansTemporalSpatial:dansSpatialBox': {'dansTemporalSpatial:dansSpatialBoxNorth': '185031', 'dansTemporalSpatial:dansSpatialBoxEast': '422730', 'dansTemporalSpatial:dansSpatialBoxScheme': 'RD (in m.)'}}}\n",
      "{'@id': 'https://archaeology.datastations.nl/api/datasets/export?exporter=OAI_ORE&persistentId=https://doi.org/10.17026/AR/VXWEZS', 'ore:describes': {'dansTemporalSpatial:dansSpatialBox': {'dansTemporalSpatial:dansSpatialBoxNorth': '103.497', 'dansTemporalSpatial:dansSpatialBoxEast': '488.603', 'dansTemporalSpatial:dansSpatialBoxScheme': 'RD (in m.)'}}}\n",
      "{'@id': 'https://archaeology.datastations.nl/api/datasets/export?exporter=OAI_ORE&persistentId=https://doi.org/10.17026/AR/5VSVUK', 'ore:describes': {'dansTemporalSpatial:dansSpatialBox': {'dansTemporalSpatial:dansSpatialBoxNorth': '439.137', 'dansTemporalSpatial:dansSpatialBoxEast': '85.127', 'dansTemporalSpatial:dansSpatialBoxSouth': '438.130', 'dansTemporalSpatial:dansSpatialBoxScheme': 'RD (in m.)'}}}\n",
      "{'@id': 'https://archaeology.datastations.nl/api/datasets/export?exporter=OAI_ORE&persistentId=https://doi.org/10.17026/AR/JWOXKY', 'ore:describes': {'dansTemporalSpatial:dansSpatialBox': {'dansTemporalSpatial:dansSpatialBoxNorth': '158136', 'dansTemporalSpatial:dansSpatialBoxSouth': '437775', 'dansTemporalSpatial:dansSpatialBoxScheme': 'RD (in m.)'}}}\n",
      "{'@id': 'https://archaeology.datastations.nl/api/datasets/export?exporter=OAI_ORE&persistentId=https://doi.org/10.17026/AR/W2LBOH', 'ore:describes': {'dansTemporalSpatial:dansSpatialBox': {'dansTemporalSpatial:dansSpatialBoxNorth': '96988', 'dansTemporalSpatial:dansSpatialBoxEast': '439541', 'dansTemporalSpatial:dansSpatialBoxScheme': 'RD (in m.)'}}}\n",
      "{'@id': 'https://archaeology.datastations.nl/api/datasets/export?exporter=OAI_ORE&persistentId=https://doi.org/10.17026/AR/ZVEXSS', 'ore:describes': {'dansTemporalSpatial:dansSpatialBox': {'dansTemporalSpatial:dansSpatialBoxNorth': '102376', 'dansTemporalSpatial:dansSpatialBoxEast': '411083', 'dansTemporalSpatial:dansSpatialBoxScheme': 'RD (in m.)'}}}\n"
     ]
    }
   ],
   "source": [
    "results = collection.find(query, projection)\n",
    "data = []\n",
    "for result in results:\n",
    "    print(result)\n",
    "    data.append(dict(result))"
   ]
  },
  {
   "cell_type": "code",
   "execution_count": 120,
   "metadata": {},
   "outputs": [],
   "source": [
    "with open(\"../../data/sprint1/sp1_incomplete.json\", \"w\") as outfile: \n",
    "    json.dump(data, outfile, indent=4)"
   ]
  },
  {
   "cell_type": "code",
   "execution_count": null,
   "metadata": {},
   "outputs": [],
   "source": []
  }
 ],
 "metadata": {
  "kernelspec": {
   "display_name": "env",
   "language": "python",
   "name": "python3"
  },
  "language_info": {
   "codemirror_mode": {
    "name": "ipython",
    "version": 3
   },
   "file_extension": ".py",
   "mimetype": "text/x-python",
   "name": "python",
   "nbconvert_exporter": "python",
   "pygments_lexer": "ipython3",
   "version": "3.12.3"
  }
 },
 "nbformat": 4,
 "nbformat_minor": 2
}
