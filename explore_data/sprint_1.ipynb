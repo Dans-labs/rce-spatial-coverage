{
 "cells": [
  {
   "cell_type": "markdown",
   "metadata": {},
   "source": [
    "# Sprint 1: Identify missing coordinate schemes \n"
   ]
  },
  {
   "cell_type": "markdown",
   "metadata": {},
   "source": [
    "## Read all data \n",
    "Make sure the collected data is up-to-date. Run [`find_new_deposits.ipynb`](../collect_data/find_new_deposits.ipynb) and [`collect_metadata.ipynb`](../collect_data/collect_metadata.ipynb) first to download metadata until current date. "
   ]
  },
  {
   "cell_type": "code",
   "execution_count": 51,
   "metadata": {},
   "outputs": [],
   "source": [
    "import sys\n",
    "# Specify the path to the scripts folder\n",
    "sys.path.append('../scripts/')\n",
    "from mongodb import load_data"
   ]
  },
  {
   "cell_type": "code",
   "execution_count": 52,
   "metadata": {},
   "outputs": [],
   "source": [
    "collection = load_data()\n"
   ]
  },
  {
   "cell_type": "code",
   "execution_count": 27,
   "metadata": {},
   "outputs": [],
   "source": [
    "#scheme = \"longitude/latitude (degrees)\"\n",
    "scheme = \"RD (in m.)\"\n",
    "\n",
    "sample = collection.find({\"ore:describes.dansTemporalSpatial:dansSpatialPoint.dansTemporalSpatial:dansSpatialPointScheme\":f\"{scheme}\"}, {\"_id\": 0, \"ore:describes.dansTemporalSpatial:dansSpatialPoint.dansTemporalSpatial:dansSpatialPointX\": 1, \"ore:describes.dansTemporalSpatial:dansSpatialPoint.dansTemporalSpatial:dansSpatialPointY\": 1 ,\"ore:describes.dansTemporalSpatial:dansSpatialPoint.dansTemporalSpatial:dansSpatialPointScheme\": 1}).limit(5)"
   ]
  },
  {
   "cell_type": "code",
   "execution_count": 28,
   "metadata": {},
   "outputs": [
    {
     "name": "stdout",
     "output_type": "stream",
     "text": [
      "{'ore:describes': {'dansTemporalSpatial:dansSpatialPoint': {'dansTemporalSpatial:dansSpatialPointX': '108240', 'dansTemporalSpatial:dansSpatialPointY': '447370', 'dansTemporalSpatial:dansSpatialPointScheme': 'RD (in m.)'}}}\n",
      "\n",
      "{'ore:describes': {'dansTemporalSpatial:dansSpatialPoint': {'dansTemporalSpatial:dansSpatialPointX': '77230', 'dansTemporalSpatial:dansSpatialPointY': '490214', 'dansTemporalSpatial:dansSpatialPointScheme': 'RD (in m.)'}}}\n",
      "\n",
      "{'ore:describes': {'dansTemporalSpatial:dansSpatialPoint': {'dansTemporalSpatial:dansSpatialPointX': '203505', 'dansTemporalSpatial:dansSpatialPointY': '324100', 'dansTemporalSpatial:dansSpatialPointScheme': 'RD (in m.)'}}}\n",
      "\n",
      "{'ore:describes': {'dansTemporalSpatial:dansSpatialPoint': {'dansTemporalSpatial:dansSpatialPointX': '95873', 'dansTemporalSpatial:dansSpatialPointY': '421799', 'dansTemporalSpatial:dansSpatialPointScheme': 'RD (in m.)'}}}\n",
      "\n",
      "{'ore:describes': {'dansTemporalSpatial:dansSpatialPoint': [{'dansTemporalSpatial:dansSpatialPointX': '197332', 'dansTemporalSpatial:dansSpatialPointY': '356659', 'dansTemporalSpatial:dansSpatialPointScheme': 'RD (in m.)'}, {'dansTemporalSpatial:dansSpatialPointX': '197337', 'dansTemporalSpatial:dansSpatialPointY': '356100', 'dansTemporalSpatial:dansSpatialPointScheme': 'RD (in m.)'}, {'dansTemporalSpatial:dansSpatialPointX': '197185', 'dansTemporalSpatial:dansSpatialPointY': '355712', 'dansTemporalSpatial:dansSpatialPointScheme': 'RD (in m.)'}]}}\n",
      "\n"
     ]
    }
   ],
   "source": [
    "for l in sample: \n",
    "    print(l)\n",
    "    print()\n"
   ]
  },
  {
   "cell_type": "markdown",
   "metadata": {},
   "source": [
    "## PART 1: IDENTIFY"
   ]
  },
  {
   "cell_type": "markdown",
   "metadata": {},
   "source": [
    "## Identify instances where the Scheme is missing but not the points. "
   ]
  },
  {
   "cell_type": "code",
   "execution_count": 63,
   "metadata": {},
   "outputs": [],
   "source": [
    "# # For Points: \n",
    "# fields_present = [\"ore:describes.dansTemporalSpatial:dansSpatialPoint.dansTemporalSpatial:dansSpatialPointX\", \"ore:describes.dansTemporalSpatial:dansSpatialPoint.dansTemporalSpatial:dansSpatialPointY\"]\n",
    "# fields_absent = [\"ore:describes.dansTemporalSpatial:dansSpatialPoint.dansTemporalSpatial:dansSpatialPointScheme\", \"ore:describes.dansTemporalSpatial:dansSpatialBox.dansTemporalSpatial:dansSpatialBoxScheme\"]\n",
    "\n",
    "# For Box: \n",
    "fields_present = [\"ore:describes.dansTemporalSpatial:dansSpatialBox.dansTemporalSpatial:dansSpatialBoxNorth\", \"ore:describes.dansTemporalSpatial:dansSpatialBox.dansTemporalSpatial:dansSpatialBoxSouth\", \"ore:describes.dansTemporalSpatial:dansSpatialBox.dansTemporalSpatial:dansSpatialBoxEast\", \"ore:describes.dansTemporalSpatial:dansSpatialBox.dansTemporalSpatial:dansSpatialBoxWest\"]\n",
    "fields_absent = [\"ore:describes.dansTemporalSpatial:dansSpatialBox.dansTemporalSpatial:dansSpatialBoxScheme\", \"ore:describes.dansTemporalSpatial:dansSpatialPoint.dansTemporalSpatial:dansSpatialPointScheme\"]"
   ]
  },
  {
   "cell_type": "code",
   "execution_count": 64,
   "metadata": {},
   "outputs": [],
   "source": [
    "# Select the documents that contain a value for at least one of the fields in fields_present (points + boxes), and do not contain a value specifying the coordinate scheme \n",
    "query = {\n",
    "    \"$and\":[\n",
    "        {\"$or\": [{x: {\"$exists\": True} for x in fields_present}]},\n",
    "        {\"$and\": [{x: {\"$exists\": False} for x in fields_absent}]}\n",
    "    ], \n",
    "}\n",
    "\n",
    "# Select the fields to be included in the output\n",
    "projection = {\n",
    "        '@id': 1,\n",
    "        'ore:describes.dansTemporalSpatial:dansSpatialPoint.dansTemporalSpatial:dansSpatialPointX': 1,\n",
    "        'ore:describes.dansTemporalSpatial:dansSpatialPoint.dansTemporalSpatial:dansSpatialPointY': 1,\n",
    "        'ore:describes.dansTemporalSpatial:dansSpatialPoint.dansTemporalSpatial:dansSpatialPointScheme': 1,\n",
    "        'ore:describes.dansTemporalSpatial:dansSpatialBox.dansTemporalSpatial:dansSpatialBoxNorth': 1,\n",
    "        'ore:describes.dansTemporalSpatial:dansSpatialBox.dansTemporalSpatial:dansSpatialBoxSouth': 1,\n",
    "        'ore:describes.dansTemporalSpatial:dansSpatialBox.dansTemporalSpatial:dansSpatialBoxEast': 1,\n",
    "        'ore:describes.dansTemporalSpatial:dansSpatialBox.dansTemporalSpatial:dansSpatialBoxWest': 1,\n",
    "        'ore:describes.dansTemporalSpatial:dansSpatialBox.dansTemporalSpatial:dansSpatialBoxScheme': 1,\n",
    "        'ore:describes.author.citation:authorName': 1,\n",
    "        '_id': 0\n",
    "    }\n",
    "\n"
   ]
  },
  {
   "cell_type": "code",
   "execution_count": 65,
   "metadata": {},
   "outputs": [
    {
     "name": "stdout",
     "output_type": "stream",
     "text": [
      "{'@id': 'https://archaeology.datastations.nl/api/datasets/export?exporter=OAI_ORE&persistentId=https://doi.org/10.17026/AR/JIHOJG', 'ore:describes': {'author': [{'citation:authorName': 'Kruithof, L.'}, {'citation:authorName': 'Hagens, D.'}], 'dansTemporalSpatial:dansSpatialPoint': {'dansTemporalSpatial:dansSpatialPointX': '148345', 'dansTemporalSpatial:dansSpatialPointY': '402715'}, 'dansTemporalSpatial:dansSpatialBox': {'dansTemporalSpatial:dansSpatialBoxNorth': '402735', 'dansTemporalSpatial:dansSpatialBoxEast': '148400', 'dansTemporalSpatial:dansSpatialBoxSouth': '402686', 'dansTemporalSpatial:dansSpatialBoxWest': '148311'}}}\n",
      "{'@id': 'https://archaeology.datastations.nl/api/datasets/export?exporter=OAI_ORE&persistentId=https://doi.org/10.17026/AR/SWIA0R', 'ore:describes': {'author': {'citation:authorName': 'Bongers, J.'}, 'dansTemporalSpatial:dansSpatialBox': {'dansTemporalSpatial:dansSpatialBoxNorth': '601581', 'dansTemporalSpatial:dansSpatialBoxEast': '225187', 'dansTemporalSpatial:dansSpatialBoxSouth': '601512', 'dansTemporalSpatial:dansSpatialBoxWest': '225142'}}}\n",
      "{'@id': 'https://archaeology.datastations.nl/api/datasets/export?exporter=OAI_ORE&persistentId=https://doi.org/10.17026/AR/10I34B', 'ore:describes': {'author': [{'citation:authorName': 'Weerheijm, W.J.'}, {'citation:authorName': 'Schrijvers, R.'}, {'citation:authorName': 'Picard, E.R.J.G.'}], 'dansTemporalSpatial:dansSpatialBox': {'dansTemporalSpatial:dansSpatialBoxNorth': '431052', 'dansTemporalSpatial:dansSpatialBoxEast': '179423', 'dansTemporalSpatial:dansSpatialBoxSouth': '428565', 'dansTemporalSpatial:dansSpatialBoxWest': '175108'}}}\n"
     ]
    }
   ],
   "source": [
    "results = collection.find(query, projection)\n",
    "data = []\n",
    "for result in results:\n",
    "    print(result)\n",
    "    data.append(dict(result))"
   ]
  },
  {
   "cell_type": "code",
   "execution_count": 50,
   "metadata": {},
   "outputs": [],
   "source": [
    "# import json\n",
    "# with open(\"../../data/sprint1/sp1_no_box_scheme.json\", \"w\") as outfile: \n",
    "#     json.dump(data, outfile, indent=4)"
   ]
  },
  {
   "cell_type": "code",
   "execution_count": 66,
   "metadata": {},
   "outputs": [],
   "source": [
    "# Read json as dataframe \n",
    "import pandas as pd\n",
    "df = pd.DataFrame(data)\n",
    "df.to_csv(\"../../data/sprint1/sp1_no_box_scheme.csv\", index=False)"
   ]
  },
  {
   "cell_type": "code",
   "execution_count": 49,
   "metadata": {},
   "outputs": [
    {
     "name": "stdout",
     "output_type": "stream",
     "text": [
      "3\n"
     ]
    }
   ],
   "source": [
    "print(len(data))"
   ]
  },
  {
   "cell_type": "code",
   "execution_count": 91,
   "metadata": {},
   "outputs": [
    {
     "name": "stdout",
     "output_type": "stream",
     "text": [
      "authors:\n",
      "Boter, Reinoud: 158\n",
      "Kroes, R.A.C.: 6\n",
      "D. Schaars: 3\n",
      "Schorn, E. A.: 2\n",
      "Leuvering, J.H.F.: 2\n",
      "Bulambo, F.M.: 2\n",
      "Jong, C. de: 2\n",
      "B.N.J. Verschuren: 2\n",
      "G. Korenberg, F. Haans: 2\n",
      "G. Korenberg: 2\n",
      "F. Haans, D. Schaars: 2\n",
      "L. Kleij: 2\n",
      "Schiltmans, D.E.A.: 2\n",
      "Schamp, C.R.C.: 1\n",
      "Yoshua Csonka: 1\n",
      "Exaltus, R.P., & Tulp, C.: 1\n",
      "A.G.J. Hullegie: 1\n",
      "Rijk, de, T.E.: 1\n",
      "Modderkolk, M.W.J.: 1\n",
      "Verhoeven, M. Dr.: 1\n",
      "Hullegie, A.G.J.: 1\n",
      "Geraeds, J.J.G.: 1\n",
      "Boer, de, A. G.: 1\n",
      "C. Brühl: 1\n",
      "Kroes, R.A.C: 1\n",
      "I. Korver: 1\n",
      "Biggelaar, van den, D.F.A.M.: 1\n",
      "C. van der Esch: 1\n",
      "Jans, J.E.A.: 1\n",
      "Iris de Fuijk: 1\n",
      "J.J. Hekman: 1\n",
      "A.T.L.E van Bussel: 1\n",
      "C.R.C. Schamp: 1\n",
      "K.T. Salomons,: 1\n",
      "S.M. Koeman: 1\n",
      "T. Nales: 1\n",
      "J. van der Kroon: 1\n",
      "Steekproef, De: 1\n",
      "Westra, F.P.: 1\n",
      "Vosselman, J.: 1\n",
      "Vaessen, Dr. R.A.: 1\n",
      "Wijnen. J.: 1\n",
      "Groot, R. de: 1\n",
      "Zielman, G.: 1\n",
      "Ouwerkerk, L.P.: 1\n",
      "J.J.G. Geraeds: 1\n",
      "N.Vlieks/J.J.G. Geraeds: 1\n",
      "Bakker, S.: 1\n",
      "J. de Munnik: 1\n",
      "J.P.L. Vaars: 1\n",
      "de Ridder, J.A.A.: 1\n",
      "van Boldrik, J.M.L.: 1\n",
      "E. A. Schorn: 1\n",
      "Moerman, S.: 1\n",
      "D.E.A. Schiltmans: 1\n",
      "drs. K. Wink: 1\n",
      "Dorst, M.C.: 1\n",
      "Huis in 't Veld, J.Y.: 1\n",
      "León Subías, de, D.: 1\n",
      "Bruekers, A.W.J.: 1\n",
      "Koeman, S.M.: 1\n",
      "Verschuren, B.N.J.: 1\n",
      "T.S. van Cruchten: 1\n",
      "J.G.E. Melman: 1\n",
      "Peeters, D.: 1\n",
      "Grothe, Kirsten: 1\n",
      "Huizer, J.: 1\n",
      "Duijn, D.M.: 1\n",
      "Broeke, ten, E.M.: 1\n",
      "Heijting, H.J.: 1\n"
     ]
    }
   ],
   "source": [
    "# Print the frequency of the authors\n",
    "from collections import Counter\n",
    "\n",
    "authors = []\n",
    "\n",
    "for result in data:\n",
    "    try: \n",
    "        author = result['ore:describes']['author']['citation:authorName']\n",
    "        authors.append(author)\n",
    "    except TypeError: \n",
    "        continue\n",
    "\n",
    "\n",
    "# Count the frequency of each author\n",
    "author_counts = Counter(authors)\n",
    "    \n",
    "\n",
    "sorted_authors = sorted(author_counts.items(), key=lambda x: x[1], reverse=True)\n",
    "print(\"authors:\")\n",
    "for author, count in sorted_authors:\n",
    "    print(f\"{author}: {count}\")"
   ]
  },
  {
   "cell_type": "markdown",
   "metadata": {},
   "source": [
    "## Identify cases where Points/Boxes are incomplete "
   ]
  },
  {
   "cell_type": "code",
   "execution_count": 56,
   "metadata": {},
   "outputs": [],
   "source": [
    "# Points \n",
    "points = [\"ore:describes.dansTemporalSpatial:dansSpatialPoint.dansTemporalSpatial:dansSpatialPointX\", \"ore:describes.dansTemporalSpatial:dansSpatialPoint.dansTemporalSpatial:dansSpatialPointY\"]\n",
    "\n",
    "# Box\n",
    "box = [\"ore:describes.dansTemporalSpatial:dansSpatialBox.dansTemporalSpatial:dansSpatialBoxNorth\", \"ore:describes.dansTemporalSpatial:dansSpatialBox.dansTemporalSpatial:dansSpatialBoxSouth\", \"ore:describes.dansTemporalSpatial:dansSpatialBox.dansTemporalSpatial:dansSpatialBoxEast\", \"ore:describes.dansTemporalSpatial:dansSpatialBox.dansTemporalSpatial:dansSpatialBoxWest\"]\n",
    "\n"
   ]
  },
  {
   "cell_type": "code",
   "execution_count": 57,
   "metadata": {},
   "outputs": [],
   "source": [
    "# Note on the following query: \n",
    "# The * operator is used to unpack the list of dictionaries created by the list comprehension. \n",
    "# This is required because the $or operator expects a list of conditions, not a list of lists.\n",
    "\n",
    "query = {\n",
    "    \"$and\": [\n",
    "        # At least one field exists in 'points' OR 'box'\n",
    "        {\n",
    "            \"$or\": [\n",
    "                *[{field: {\"$exists\": True}} for field in points],  # Any field in 'points'\n",
    "                *[{field: {\"$exists\": True}} for field in box]      # Any field in 'box'\n",
    "            ]\n",
    "        },\n",
    "        # Exclude documents with ALL fields in 'points'\n",
    "        {\"$nor\": [{field: {\"$exists\": True} for field in points}]},\n",
    "        # Exclude documents with ALL fields in 'box'\n",
    "        {\"$nor\": [{field: {\"$exists\": True} for field in box}]}\n",
    "    ]\n",
    "}\n",
    "\n",
    "\n",
    "projection = {\n",
    "        '@id': 1,\n",
    "        'ore:describes.dansTemporalSpatial:dansSpatialPoint.dansTemporalSpatial:dansSpatialPointX': 1,\n",
    "        'ore:describes.dansTemporalSpatial:dansSpatialPoint.dansTemporalSpatial:dansSpatialPointY': 1,\n",
    "        'ore:describes.dansTemporalSpatial:dansSpatialPoint.dansTemporalSpatial:dansSpatialPointScheme': 1,\n",
    "        'ore:describes.dansTemporalSpatial:dansSpatialBox.dansTemporalSpatial:dansSpatialBoxNorth': 1,\n",
    "        'ore:describes.dansTemporalSpatial:dansSpatialBox.dansTemporalSpatial:dansSpatialBoxSouth': 1,\n",
    "        'ore:describes.dansTemporalSpatial:dansSpatialBox.dansTemporalSpatial:dansSpatialBoxEast': 1,\n",
    "        'ore:describes.dansTemporalSpatial:dansSpatialBox.dansTemporalSpatial:dansSpatialBoxWest': 1,\n",
    "        'ore:describes.dansTemporalSpatial:dansSpatialBox.dansTemporalSpatial:dansSpatialBoxScheme': 1,\n",
    "        'ore:describes.author.citation:authorName': 1,\n",
    "        '_id': 0\n",
    "    }"
   ]
  },
  {
   "cell_type": "code",
   "execution_count": 58,
   "metadata": {},
   "outputs": [
    {
     "name": "stdout",
     "output_type": "stream",
     "text": [
      "{'@id': 'https://archaeology.datastations.nl/api/datasets/export?exporter=OAI_ORE&persistentId=https://doi.org/10.17026/AR/HD2TLR', 'ore:describes': {'author': [{'citation:authorName': 'Fens, RL'}, {'citation:authorName': 'Nater, CI'}], 'dansTemporalSpatial:dansSpatialBox': {'dansTemporalSpatial:dansSpatialBoxNorth': '201463', 'dansTemporalSpatial:dansSpatialBoxEast': '357111', 'dansTemporalSpatial:dansSpatialBoxScheme': 'RD (in m.)'}}}\n",
      "{'@id': 'https://archaeology.datastations.nl/api/datasets/export?exporter=OAI_ORE&persistentId=https://doi.org/10.17026/AR/FRDQG8', 'ore:describes': {'author': {'citation:authorName': 'P. Seinen'}, 'dansTemporalSpatial:dansSpatialBox': {'dansTemporalSpatial:dansSpatialBoxNorth': '121924', 'dansTemporalSpatial:dansSpatialBoxEast': '478749', 'dansTemporalSpatial:dansSpatialBoxScheme': 'RD (in m.)'}}}\n",
      "{'@id': 'https://archaeology.datastations.nl/api/datasets/export?exporter=OAI_ORE&persistentId=https://doi.org/10.17026/AR/JRFSCS', 'ore:describes': {'author': [{'citation:authorName': 'Kauling, T.A.'}, {'citation:authorName': 'Soetens, L.'}], 'dansTemporalSpatial:dansSpatialBox': {'dansTemporalSpatial:dansSpatialBoxNorth': '185031', 'dansTemporalSpatial:dansSpatialBoxEast': '422730', 'dansTemporalSpatial:dansSpatialBoxScheme': 'RD (in m.)'}}}\n",
      "{'@id': 'https://archaeology.datastations.nl/api/datasets/export?exporter=OAI_ORE&persistentId=https://doi.org/10.17026/AR/VXWEZS', 'ore:describes': {'dansTemporalSpatial:dansSpatialBox': {'dansTemporalSpatial:dansSpatialBoxNorth': '103.497', 'dansTemporalSpatial:dansSpatialBoxEast': '488.603', 'dansTemporalSpatial:dansSpatialBoxScheme': 'RD (in m.)'}, 'author': {'citation:authorName': 'K.T. Salomons'}}}\n",
      "{'@id': 'https://archaeology.datastations.nl/api/datasets/export?exporter=OAI_ORE&persistentId=https://doi.org/10.17026/AR/5VSVUK', 'ore:describes': {'author': {'citation:authorName': '(BOOR), Archeologie Rotterdam'}, 'dansTemporalSpatial:dansSpatialBox': {'dansTemporalSpatial:dansSpatialBoxNorth': '439.137', 'dansTemporalSpatial:dansSpatialBoxEast': '85.127', 'dansTemporalSpatial:dansSpatialBoxSouth': '438.130', 'dansTemporalSpatial:dansSpatialBoxScheme': 'RD (in m.)'}}}\n",
      "{'@id': 'https://archaeology.datastations.nl/api/datasets/export?exporter=OAI_ORE&persistentId=https://doi.org/10.17026/AR/JWOXKY', 'ore:describes': {'author': [{'citation:authorName': 'Bongers, T.'}, {'citation:authorName': 'Arler, E.'}, {'citation:authorName': 'van Zijverden, W.'}, {'citation:authorName': 'de Moor, J.'}, {'citation:authorName': 'Vanderhoeven, T.'}], 'dansTemporalSpatial:dansSpatialBox': {'dansTemporalSpatial:dansSpatialBoxNorth': '158136', 'dansTemporalSpatial:dansSpatialBoxSouth': '437775', 'dansTemporalSpatial:dansSpatialBoxScheme': 'RD (in m.)'}}}\n",
      "{'@id': 'https://archaeology.datastations.nl/api/datasets/export?exporter=OAI_ORE&persistentId=https://doi.org/10.17026/AR/W2LBOH', 'ore:describes': {'author': {'citation:authorName': 'Laan, van der, E.'}, 'dansTemporalSpatial:dansSpatialBox': {'dansTemporalSpatial:dansSpatialBoxNorth': '96988', 'dansTemporalSpatial:dansSpatialBoxEast': '439541', 'dansTemporalSpatial:dansSpatialBoxScheme': 'RD (in m.)'}}}\n",
      "{'@id': 'https://archaeology.datastations.nl/api/datasets/export?exporter=OAI_ORE&persistentId=https://doi.org/10.17026/AR/ZVEXSS', 'ore:describes': {'author': {'citation:authorName': 'M. Hanemaaijer'}, 'dansTemporalSpatial:dansSpatialBox': {'dansTemporalSpatial:dansSpatialBoxNorth': '102376', 'dansTemporalSpatial:dansSpatialBoxEast': '411083', 'dansTemporalSpatial:dansSpatialBoxScheme': 'RD (in m.)'}}}\n"
     ]
    }
   ],
   "source": [
    "results = collection.find(query, projection)\n",
    "data = []\n",
    "for result in results:\n",
    "    print(result)\n",
    "    data.append(dict(result))"
   ]
  },
  {
   "cell_type": "code",
   "execution_count": 51,
   "metadata": {},
   "outputs": [],
   "source": [
    "# import json\n",
    "# with open(\"../../data/sprint1/sp1_incomplete.json\", \"w\") as outfile: \n",
    "#     json.dump(data, outfile, indent=4)"
   ]
  },
  {
   "cell_type": "code",
   "execution_count": 92,
   "metadata": {},
   "outputs": [],
   "source": [
    "# mioforj\n",
    "# proof of concept  "
   ]
  },
  {
   "cell_type": "code",
   "execution_count": null,
   "metadata": {},
   "outputs": [],
   "source": []
  },
  {
   "cell_type": "markdown",
   "metadata": {},
   "source": [
    "## PART 2: INFER"
   ]
  },
  {
   "cell_type": "markdown",
   "metadata": {},
   "source": [
    "Infer the coordinate schemes for the instances where it is missing. "
   ]
  },
  {
   "cell_type": "code",
   "execution_count": null,
   "metadata": {},
   "outputs": [],
   "source": []
  }
 ],
 "metadata": {
  "kernelspec": {
   "display_name": "env",
   "language": "python",
   "name": "python3"
  },
  "language_info": {
   "codemirror_mode": {
    "name": "ipython",
    "version": 3
   },
   "file_extension": ".py",
   "mimetype": "text/x-python",
   "name": "python",
   "nbconvert_exporter": "python",
   "pygments_lexer": "ipython3",
   "version": "3.12.3"
  }
 },
 "nbformat": 4,
 "nbformat_minor": 2
}
