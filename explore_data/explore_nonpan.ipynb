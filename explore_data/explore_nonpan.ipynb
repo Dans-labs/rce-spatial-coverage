{
 "cells": [
  {
   "cell_type": "markdown",
   "metadata": {},
   "source": [
    "# Explore the datasets that are not PAN \n",
    "- Find out the distribution/population of the geospatial metadata fields \n",
    "- Can we directly use GeoNames to get the entities? \n",
    "- Between step: add administrative levels "
   ]
  },
  {
   "cell_type": "code",
   "execution_count": 77,
   "metadata": {},
   "outputs": [],
   "source": [
    "import sys\n",
    "# Specify the path to the scripts folder\n",
    "sys.path.append('../scripts/')\n",
    "from mongodb import load_data"
   ]
  },
  {
   "cell_type": "code",
   "execution_count": 78,
   "metadata": {},
   "outputs": [],
   "source": [
    "collection = load_data()"
   ]
  },
  {
   "cell_type": "code",
   "execution_count": 79,
   "metadata": {},
   "outputs": [],
   "source": [
    "# This query selects all records that are not PAN and have no geospatial information \n",
    "query = {\n",
    "    \"$and\": [\n",
    "        {\"ore:describes.dansTemporalSpatial:dansSpatialPoint\": {\"$exists\": False}},\n",
    "        {\"ore:describes.dansTemporalSpatial:dansSpatialBox\": {\"$exists\": False}},\n",
    "        # condition that the author field is not PAN: \n",
    "        {\"ore:describes.author.citation:authorName\": {\"$ne\": \"Portable Antiquities of the Netherlands\"}}\n",
    "    ]\n",
    "}"
   ]
  },
  {
   "cell_type": "code",
   "execution_count": 80,
   "metadata": {},
   "outputs": [],
   "source": [
    "nopan = collection.find(query)"
   ]
  },
  {
   "cell_type": "code",
   "execution_count": 81,
   "metadata": {},
   "outputs": [
    {
     "name": "stderr",
     "output_type": "stream",
     "text": [
      "/tmp/ipykernel_9611/2780690237.py:1: DeprecationWarning: count is deprecated. Use Collection.count_documents instead.\n",
      "  nopan.count()\n"
     ]
    },
    {
     "data": {
      "text/plain": [
       "5878"
      ]
     },
     "execution_count": 81,
     "metadata": {},
     "output_type": "execute_result"
    }
   ],
   "source": [
    "nopan.count()"
   ]
  },
  {
   "cell_type": "code",
   "execution_count": 82,
   "metadata": {},
   "outputs": [
    {
     "data": {
      "text/plain": [
       "pymongo.cursor.Cursor"
      ]
     },
     "execution_count": 82,
     "metadata": {},
     "output_type": "execute_result"
    }
   ],
   "source": [
    "type(nopan)"
   ]
  },
  {
   "cell_type": "code",
   "execution_count": 83,
   "metadata": {},
   "outputs": [],
   "source": [
    "texts = []\n",
    "ids = []\n",
    "\n",
    "for doc in nopan: \n",
    "    id = doc[\"_id\"]\n",
    "    try: \n",
    "        #print(id, doc[\"ore:describes\"][\"dansTemporalSpatial:dansSpatialCoverageText\"])\n",
    "        dansSpatialCoverageText = doc[\"ore:describes\"][\"dansTemporalSpatial:dansSpatialCoverageText\"]\n",
    "        texts.append(dansSpatialCoverageText)\n",
    "        ids.append(id)\n",
    "    except KeyError:\n",
    "        #print(id, \"No spatial coverage text available\")\n",
    "        dansSpatialCoverageText = None\n",
    "        texts.append(dansSpatialCoverageText)\n",
    "        ids.append(id)\n"
   ]
  },
  {
   "cell_type": "code",
   "execution_count": 85,
   "metadata": {},
   "outputs": [],
   "source": [
    "import pandas as pd\n",
    "\n",
    "df = pd.DataFrame(list(zip(ids, texts)), columns =['id', 'dansSpatialCoverageText'])"
   ]
  },
  {
   "cell_type": "code",
   "execution_count": 86,
   "metadata": {},
   "outputs": [
    {
     "data": {
      "text/html": [
       "<div>\n",
       "<style scoped>\n",
       "    .dataframe tbody tr th:only-of-type {\n",
       "        vertical-align: middle;\n",
       "    }\n",
       "\n",
       "    .dataframe tbody tr th {\n",
       "        vertical-align: top;\n",
       "    }\n",
       "\n",
       "    .dataframe thead th {\n",
       "        text-align: right;\n",
       "    }\n",
       "</style>\n",
       "<table border=\"1\" class=\"dataframe\">\n",
       "  <thead>\n",
       "    <tr style=\"text-align: right;\">\n",
       "      <th></th>\n",
       "      <th>id</th>\n",
       "      <th>dansSpatialCoverageText</th>\n",
       "    </tr>\n",
       "  </thead>\n",
       "  <tbody>\n",
       "    <tr>\n",
       "      <th>0</th>\n",
       "      <td>67a63bebb0aa0e074bbe3569</td>\n",
       "      <td>[Zuid-Holland, Nederland, Rotterdam, Noordsing...</td>\n",
       "    </tr>\n",
       "    <tr>\n",
       "      <th>1</th>\n",
       "      <td>67a63bebb0aa0e074bbe357c</td>\n",
       "      <td>[Nederland, Noorddijk, Zuid-Holland, Bernisse,...</td>\n",
       "    </tr>\n",
       "    <tr>\n",
       "      <th>2</th>\n",
       "      <td>67a63bf1b0aa0e074bbe35a0</td>\n",
       "      <td>[Rotterdam, Zuid-Holland, Lage Limiet, Nederla...</td>\n",
       "    </tr>\n",
       "    <tr>\n",
       "      <th>3</th>\n",
       "      <td>67a63bf1b0aa0e074bbe35a3</td>\n",
       "      <td>[Nesserlaan, Witmarsum, Gemeente Sudwest Frysl...</td>\n",
       "    </tr>\n",
       "    <tr>\n",
       "      <th>4</th>\n",
       "      <td>67a63c04b0aa0e074bbe362c</td>\n",
       "      <td>Kloetinge</td>\n",
       "    </tr>\n",
       "    <tr>\n",
       "      <th>...</th>\n",
       "      <td>...</td>\n",
       "      <td>...</td>\n",
       "    </tr>\n",
       "    <tr>\n",
       "      <th>5873</th>\n",
       "      <td>67a9c4ddec45b2e66fe6fb56</td>\n",
       "      <td>[Noord-Brabant, Zundert en Etten-Leur, Etten-L...</td>\n",
       "    </tr>\n",
       "    <tr>\n",
       "      <th>5874</th>\n",
       "      <td>67a9c4ddec45b2e66fe6fb5c</td>\n",
       "      <td>[Drenthe, Tynaarlo, Oudemolen, Groot Boerenbos]</td>\n",
       "    </tr>\n",
       "    <tr>\n",
       "      <th>5875</th>\n",
       "      <td>67a9c4ddec45b2e66fe6fb6c</td>\n",
       "      <td>[Noord-Brabant, Gilze en Rijen, Gilze, Burgeme...</td>\n",
       "    </tr>\n",
       "    <tr>\n",
       "      <th>5876</th>\n",
       "      <td>67a9c4ddec45b2e66fe6fb6d</td>\n",
       "      <td>[Drenthe, Noordenveld en Tynaarlo, Peize en Ee...</td>\n",
       "    </tr>\n",
       "    <tr>\n",
       "      <th>5877</th>\n",
       "      <td>67a9c4ddec45b2e66fe6fb6e</td>\n",
       "      <td>[Noord-Holland, Bloemendaal, Aerdenhout, Bentv...</td>\n",
       "    </tr>\n",
       "  </tbody>\n",
       "</table>\n",
       "<p>5878 rows × 2 columns</p>\n",
       "</div>"
      ],
      "text/plain": [
       "                            id  \\\n",
       "0     67a63bebb0aa0e074bbe3569   \n",
       "1     67a63bebb0aa0e074bbe357c   \n",
       "2     67a63bf1b0aa0e074bbe35a0   \n",
       "3     67a63bf1b0aa0e074bbe35a3   \n",
       "4     67a63c04b0aa0e074bbe362c   \n",
       "...                        ...   \n",
       "5873  67a9c4ddec45b2e66fe6fb56   \n",
       "5874  67a9c4ddec45b2e66fe6fb5c   \n",
       "5875  67a9c4ddec45b2e66fe6fb6c   \n",
       "5876  67a9c4ddec45b2e66fe6fb6d   \n",
       "5877  67a9c4ddec45b2e66fe6fb6e   \n",
       "\n",
       "                                dansSpatialCoverageText  \n",
       "0     [Zuid-Holland, Nederland, Rotterdam, Noordsing...  \n",
       "1     [Nederland, Noorddijk, Zuid-Holland, Bernisse,...  \n",
       "2     [Rotterdam, Zuid-Holland, Lage Limiet, Nederla...  \n",
       "3     [Nesserlaan, Witmarsum, Gemeente Sudwest Frysl...  \n",
       "4                                             Kloetinge  \n",
       "...                                                 ...  \n",
       "5873  [Noord-Brabant, Zundert en Etten-Leur, Etten-L...  \n",
       "5874    [Drenthe, Tynaarlo, Oudemolen, Groot Boerenbos]  \n",
       "5875  [Noord-Brabant, Gilze en Rijen, Gilze, Burgeme...  \n",
       "5876  [Drenthe, Noordenveld en Tynaarlo, Peize en Ee...  \n",
       "5877  [Noord-Holland, Bloemendaal, Aerdenhout, Bentv...  \n",
       "\n",
       "[5878 rows x 2 columns]"
      ]
     },
     "execution_count": 86,
     "metadata": {},
     "output_type": "execute_result"
    }
   ],
   "source": [
    "df"
   ]
  },
  {
   "cell_type": "code",
   "execution_count": 88,
   "metadata": {},
   "outputs": [],
   "source": [
    "df.to_csv(\"../../data/explore/nopan_no_spatial_info.csv\", index=False)"
   ]
  },
  {
   "cell_type": "code",
   "execution_count": null,
   "metadata": {},
   "outputs": [],
   "source": []
  }
 ],
 "metadata": {
  "kernelspec": {
   "display_name": "Python 3",
   "language": "python",
   "name": "python3"
  },
  "language_info": {
   "codemirror_mode": {
    "name": "ipython",
    "version": 3
   },
   "file_extension": ".py",
   "mimetype": "text/x-python",
   "name": "python",
   "nbconvert_exporter": "python",
   "pygments_lexer": "ipython3",
   "version": "3.12.3"
  }
 },
 "nbformat": 4,
 "nbformat_minor": 2
}
