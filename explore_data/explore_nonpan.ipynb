{
 "cells": [
  {
   "cell_type": "markdown",
   "metadata": {},
   "source": [
    "# Explore the datasets that are not PAN \n",
    "- Find out the distribution/population of the geospatial metadata fields \n",
    "- Can we directly use GeoNames to get the entities? \n",
    "- Between step: add administrative levels "
   ]
  },
  {
   "cell_type": "code",
   "execution_count": 1,
   "metadata": {},
   "outputs": [],
   "source": [
    "import sys\n",
    "# Specify the path to the scripts folder\n",
    "sys.path.append('../scripts/')\n",
    "from mongodb import load_data"
   ]
  },
  {
   "cell_type": "code",
   "execution_count": 2,
   "metadata": {},
   "outputs": [],
   "source": [
    "collection = load_data()"
   ]
  },
  {
   "cell_type": "code",
   "execution_count": 3,
   "metadata": {},
   "outputs": [],
   "source": [
    "# This query selects all records that are not PAN and have no geospatial information \n",
    "query = {\n",
    "    \"$and\": [\n",
    "        {\"ore:describes.dansTemporalSpatial:dansSpatialPoint\": {\"$exists\": False}},\n",
    "        {\"ore:describes.dansTemporalSpatial:dansSpatialBox\": {\"$exists\": False}},\n",
    "        # condition that the author field is not PAN: \n",
    "        {\"ore:describes.author.citation:authorName\": {\"$ne\": \"Portable Antiquities of the Netherlands\"}}\n",
    "    ]\n",
    "}"
   ]
  },
  {
   "cell_type": "code",
   "execution_count": 4,
   "metadata": {},
   "outputs": [],
   "source": [
    "nopan = collection.find(query)"
   ]
  },
  {
   "cell_type": "code",
   "execution_count": 5,
   "metadata": {},
   "outputs": [
    {
     "name": "stderr",
     "output_type": "stream",
     "text": [
      "/tmp/ipykernel_38918/2780690237.py:1: DeprecationWarning: count is deprecated. Use Collection.count_documents instead.\n",
      "  nopan.count()\n"
     ]
    },
    {
     "data": {
      "text/plain": [
       "5878"
      ]
     },
     "execution_count": 5,
     "metadata": {},
     "output_type": "execute_result"
    }
   ],
   "source": [
    "nopan.count()"
   ]
  }
 ],
 "metadata": {
  "kernelspec": {
   "display_name": "Python 3",
   "language": "python",
   "name": "python3"
  },
  "language_info": {
   "codemirror_mode": {
    "name": "ipython",
    "version": 3
   },
   "file_extension": ".py",
   "mimetype": "text/x-python",
   "name": "python",
   "nbconvert_exporter": "python",
   "pygments_lexer": "ipython3",
   "version": "3.12.3"
  }
 },
 "nbformat": 4,
 "nbformat_minor": 2
}
