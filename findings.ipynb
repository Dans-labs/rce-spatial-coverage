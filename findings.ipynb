{
 "cells": [
  {
   "cell_type": "markdown",
   "metadata": {},
   "source": [
    "# Findings \n",
    "Here you find a summary of the initial findings as well as an overview of what I'm currently working on. The actual work takes place in the other notebooks, here I just give an overview. I update this notebook along the way. "
   ]
  },
  {
   "cell_type": "markdown",
   "metadata": {},
   "source": [
    "## Step 1: Identify where geospatial metadata is missing"
   ]
  },
  {
   "cell_type": "markdown",
   "metadata": {},
   "source": [
    "The dataframe below contains a selection of fields from all Archaeology datasets in the Data Station. Its purpose is to show where geospatial data is missing. The data was cleaned to only contain published datasets. \n",
    "\n",
    "There are two types of fields that contain explicit geospatial information: `dansSpatialPoint` and `dansSpatialBox`. Below you see how many datasets have information filled in these fields. "
   ]
  },
  {
   "cell_type": "code",
   "execution_count": 3,
   "metadata": {},
   "outputs": [
    {
     "name": "stdout",
     "output_type": "stream",
     "text": [
      "<class 'pandas.core.frame.DataFrame'>\n",
      "RangeIndex: 158254 entries, 0 to 158253\n",
      "Data columns (total 13 columns):\n",
      " #   Column                                                Non-Null Count   Dtype  \n",
      "---  ------                                                --------------   -----  \n",
      " 0   dsPersistentId                                        158254 non-null  object \n",
      " 1   publicationStatus                                     158254 non-null  object \n",
      " 2   title                                                 158254 non-null  object \n",
      " 3   dsDescriptionValue                                    158254 non-null  object \n",
      " 4   dansSpatialPointX                                     56479 non-null   object \n",
      " 5   dansSpatialPointY                                     56479 non-null   object \n",
      " 6   dansSpatialPointScheme                                56304 non-null   object \n",
      " 7   dansSpatialBoxNorth                                   4432 non-null    object \n",
      " 8   dansSpatialBoxEast                                    4430 non-null    object \n",
      " 9   dansSpatialBoxSouth                                   4426 non-null    object \n",
      " 10  dansSpatialBoxWest                                    4424 non-null    object \n",
      " 11  dansSpatialBoxScheme                                  4438 non-null    object \n",
      " 12  dansSpatialCoverageControlleddansSpatialCoverageText  0 non-null       float64\n",
      "dtypes: float64(1), object(12)\n",
      "memory usage: 15.7+ MB\n"
     ]
    }
   ],
   "source": [
    "import pandas as pd\n",
    "df = pd.read_csv('../data/archaeology_metadata.csv')\n",
    "df.info()"
   ]
  },
  {
   "cell_type": "code",
   "execution_count": 13,
   "metadata": {},
   "outputs": [],
   "source": [
    "# box = df[df.dansSpatialBoxScheme.notnull()]\n",
    "# box"
   ]
  },
  {
   "cell_type": "markdown",
   "metadata": {},
   "source": [
    "In total, the archaeology data station contains 158254 published datasets. \n",
    "About 60000 have geospatial information in the metadata, either in the form of points (x, y), or a bounding box. \n",
    "\n",
    "--> About 1/3 of the datasets have spatial metadata available. "
   ]
  },
  {
   "cell_type": "markdown",
   "metadata": {},
   "source": [
    "### Inspect the data with missing explicit geospatial metadata"
   ]
  },
  {
   "cell_type": "code",
   "execution_count": 7,
   "metadata": {},
   "outputs": [],
   "source": [
    "df_nogeo = df[df.dansSpatialBoxNorth.isna() & df.dansSpatialPointX.isna()]"
   ]
  },
  {
   "cell_type": "code",
   "execution_count": 8,
   "metadata": {},
   "outputs": [
    {
     "name": "stdout",
     "output_type": "stream",
     "text": [
      "<class 'pandas.core.frame.DataFrame'>\n",
      "Index: 98417 entries, 109 to 158234\n",
      "Data columns (total 13 columns):\n",
      " #   Column                                                Non-Null Count  Dtype  \n",
      "---  ------                                                --------------  -----  \n",
      " 0   dsPersistentId                                        98417 non-null  object \n",
      " 1   publicationStatus                                     98417 non-null  object \n",
      " 2   title                                                 98417 non-null  object \n",
      " 3   dsDescriptionValue                                    98417 non-null  object \n",
      " 4   dansSpatialPointX                                     0 non-null      object \n",
      " 5   dansSpatialPointY                                     0 non-null      object \n",
      " 6   dansSpatialPointScheme                                4 non-null      object \n",
      " 7   dansSpatialBoxNorth                                   0 non-null      object \n",
      " 8   dansSpatialBoxEast                                    0 non-null      object \n",
      " 9   dansSpatialBoxSouth                                   0 non-null      object \n",
      " 10  dansSpatialBoxWest                                    0 non-null      object \n",
      " 11  dansSpatialBoxScheme                                  2 non-null      object \n",
      " 12  dansSpatialCoverageControlleddansSpatialCoverageText  0 non-null      float64\n",
      "dtypes: float64(1), object(12)\n",
      "memory usage: 10.5+ MB\n"
     ]
    }
   ],
   "source": [
    "df_nogeo.info()"
   ]
  },
  {
   "cell_type": "markdown",
   "metadata": {},
   "source": [
    "## Step 2: Identify where geospatial metadata can be found\n",
    "Based on the PID, I extracted the full metadata for a sample of 100 datasets without explicit geospatial data in JSON format (see [`doi_to_json.py`](scripts/doi_to_json.py)). Through manual inspection I listed all fields that included hints to locations. See the table below for a list of the fields I found. \n",
    "\n",
    "Base url: https://archaeology.datastations.nl/api/datasets/export?exporter=OAI_ORE&persistentId=doi:{doi}"
   ]
  },
  {
   "cell_type": "markdown",
   "metadata": {},
   "source": [
    "### Metadata fields that may hold geospatial information\n",
    "\n",
    "| field | description | example | doi of example |\n",
    "|---|---|---|---|\n",
    "| dansTemporalSpatial:dansSpatialPoint | Has an X, Y and Scheme specification | 6.11557, 52.78667, longitude/latitude (degrees) |  10.17026/25AR/25AAV0BL | \n",
    "| dansTemporalSpatial:dansSpatialBox | Has a North, East, South, West and Scheme specification | 392400,392325\t52430,52350\t392300,392275\t52275,52300\tRD (in m.),RD (in m.) | 10.17026/dans-zf4-sjty\t| \n",
    "| dansTemporalSpatial:dansSpatialCoverageControlled |  | Netherlands | 10.17026/25AR/25AAV0BL | \n",
    "| dansTemporalSpatial:dansSpatialCoverageText | | \t\"Sint-Michielsgestel\", \"NLD\" | 10.17026/AR/KDIBWJ | \n",
    "| dansRelationMetadata:dansCollection:title | | Kalverstraat 11 Steenwijk | 10.17026/25AR/25AAV0BL | \n",
    "| ore:aggregates:schema:name | Often appears to contain geospatial info in some form | - 115-261_Steenwijk_Kalverstraat 11.pdf </br> - location.xml </br> - Archeologische Begeleiding aanleg wegcunet en Opgraving aanleg watervoorziening Hoge Meet, Stelleweg/Oranjeweg, Gemeente Goes|  10.17026/25AR/25AAV0BL </br> 10.17026/AR/KDIBWJ </br> 10.17026/dans-zf4-sjty | \n",
    "| citation:dsDescriptionValue | Contains a free description of the dataset | | | \n",
    "\n",
    "\n",
    "\n"
   ]
  },
  {
   "cell_type": "markdown",
   "metadata": {},
   "source": [
    "It's not yet possible to see how many of these fields are present in the Data Station, because I have not yet extracted all JSONs. However, the SpatialCoverageText seemed to be abundantly available when I inspected the sample. That seemed like an easy point to start. "
   ]
  },
  {
   "cell_type": "markdown",
   "metadata": {},
   "source": [
    "## Step 3: Extract all metadata \n",
    "This will give us an overview of which fields are present. If a field is rare in general, it may not be too fruitful to start extracting geospatial info from there. The more populated fields should have priority. \n",
    "\n",
    "How to manage 10000 JSONS? \n",
    "- MongoDB \n",
    "- DuckDB"
   ]
  },
  {
   "cell_type": "markdown",
   "metadata": {},
   "source": [
    "### Approach 1: Extract `SpatialCoverageText`, convert to coordinates\n",
    "\n",
    "&#9745;  Step 1: Extract a DataFrame from the JSON\n",
    "Only take the relevant fields, use the script [`json_to_df.py`](scripts/json_to_df.py)\n",
    "\n",
    "&#9745; Step 2: Convert place names to coordinates \n",
    "Use the `Nominatim` package\n",
    "\n",
    "&#9744; Step 3: Evaluation \n",
    "Extract a test sample of datasets with geospatial information and `SpatialCoverageText`, convert the place names to coordinates, and compare to the real coordinates. \n"
   ]
  },
  {
   "cell_type": "markdown",
   "metadata": {},
   "source": [
    "### Approach 2: Extract `schema:name`\n",
    "steps: clean, apply NER to identify place names (might be more complicated because not all place name mentions are necessarily linked to the excavations), convert to coordinates"
   ]
  },
  {
   "cell_type": "markdown",
   "metadata": {},
   "source": [
    "### Approach 3: Extract `dsDescriptionValue`\n",
    "steps: clean, apply NER to identify place names (might be more complicated because not all place name mentions are necessarily linked to the excavations), convert to coordinates"
   ]
  }
 ],
 "metadata": {
  "kernelspec": {
   "display_name": "env",
   "language": "python",
   "name": "python3"
  },
  "language_info": {
   "codemirror_mode": {
    "name": "ipython",
    "version": 3
   },
   "file_extension": ".py",
   "mimetype": "text/x-python",
   "name": "python",
   "nbconvert_exporter": "python",
   "pygments_lexer": "ipython3",
   "version": "3.12.3"
  }
 },
 "nbformat": 4,
 "nbformat_minor": 2
}
