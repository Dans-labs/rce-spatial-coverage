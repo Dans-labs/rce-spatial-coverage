{
 "cells": [
  {
   "cell_type": "markdown",
   "metadata": {},
   "source": [
    "# Findings \n",
    "Here you find a summary of the initial findings"
   ]
  },
  {
   "cell_type": "markdown",
   "metadata": {},
   "source": [
    "## Some stats"
   ]
  },
  {
   "cell_type": "code",
   "execution_count": 4,
   "metadata": {},
   "outputs": [
    {
     "name": "stdout",
     "output_type": "stream",
     "text": [
      "<class 'pandas.core.frame.DataFrame'>\n",
      "RangeIndex: 158254 entries, 0 to 158253\n",
      "Data columns (total 13 columns):\n",
      " #   Column                                                Non-Null Count   Dtype  \n",
      "---  ------                                                --------------   -----  \n",
      " 0   dsPersistentId                                        158254 non-null  object \n",
      " 1   publicationStatus                                     158254 non-null  object \n",
      " 2   title                                                 158254 non-null  object \n",
      " 3   dsDescriptionValue                                    158254 non-null  object \n",
      " 4   dansSpatialPointX                                     56479 non-null   object \n",
      " 5   dansSpatialPointY                                     56479 non-null   object \n",
      " 6   dansSpatialPointScheme                                56304 non-null   object \n",
      " 7   dansSpatialBoxNorth                                   4432 non-null    object \n",
      " 8   dansSpatialBoxEast                                    4430 non-null    object \n",
      " 9   dansSpatialBoxSouth                                   4426 non-null    object \n",
      " 10  dansSpatialBoxWest                                    4424 non-null    object \n",
      " 11  dansSpatialBoxScheme                                  4438 non-null    object \n",
      " 12  dansSpatialCoverageControlleddansSpatialCoverageText  0 non-null       float64\n",
      "dtypes: float64(1), object(12)\n",
      "memory usage: 15.7+ MB\n"
     ]
    }
   ],
   "source": [
    "import pandas as pd\n",
    "df = pd.read_csv('../data/archaeology_metadata.csv')\n",
    "df.info()"
   ]
  },
  {
   "cell_type": "markdown",
   "metadata": {},
   "source": [
    "In total, the archaeology data station contains 158254 published datasets. \n",
    "About 60000 have geospatial information in the metadata, either in the form of points (x, y), or a bounding box. \n",
    "\n",
    "--> About* 1/3 of the datasets have spatial metadata available. "
   ]
  },
  {
   "cell_type": "code",
   "execution_count": null,
   "metadata": {},
   "outputs": [],
   "source": []
  }
 ],
 "metadata": {
  "kernelspec": {
   "display_name": "env",
   "language": "python",
   "name": "python3"
  },
  "language_info": {
   "codemirror_mode": {
    "name": "ipython",
    "version": 3
   },
   "file_extension": ".py",
   "mimetype": "text/x-python",
   "name": "python",
   "nbconvert_exporter": "python",
   "pygments_lexer": "ipython3",
   "version": "3.12.3"
  }
 },
 "nbformat": 4,
 "nbformat_minor": 2
}
